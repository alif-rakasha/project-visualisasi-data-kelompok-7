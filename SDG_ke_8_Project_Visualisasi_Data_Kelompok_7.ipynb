{
  "nbformat": 4,
  "nbformat_minor": 0,
  "metadata": {
    "colab": {
      "provenance": [],
      "include_colab_link": true
    },
    "kernelspec": {
      "name": "python3",
      "display_name": "Python 3"
    },
    "language_info": {
      "name": "python"
    }
  },
  "cells": [
    {
      "cell_type": "markdown",
      "metadata": {
        "id": "view-in-github",
        "colab_type": "text"
      },
      "source": [
        "<a href=\"https://colab.research.google.com/github/alif-rakasha/project-visualisasi-data-kelompok-7/blob/main/SDG_ke_8_Project_Visualisasi_Data_Kelompok_7.ipynb\" target=\"_parent\"><img src=\"https://colab.research.google.com/assets/colab-badge.svg\" alt=\"Open In Colab\"/></a>"
      ]
    },
    {
      "cell_type": "markdown",
      "source": [
        "\n",
        "---\n",
        "<h1><b>SUSTAINABLE DEVELOPMENT GOALS: DECENT WORK AND ECONOMIC GROWTH </b></h1>\n",
        "\n",
        "---\n",
        "\n",
        "Ketua Proyek: Harry Akbar Fauzan (1197050047)\n",
        "\n",
        "Anggota Kelompok 7:\n",
        "1. Rifqi Fadhlur Rahman (1187050089)\n",
        "2. Alif Rakasha Pratama Putra (1197050012)\n",
        "3. Muhammad Rizkon Fithri Wikarta (1197050090)\n",
        "4. Yunita Minarni (1197050133)\n",
        "\n"
      ],
      "metadata": {
        "id": "68SpZOaSM87u"
      }
    },
    {
      "cell_type": "markdown",
      "source": [
        "---\n",
        "\n",
        "<h2><b>Topik Penelitian</b></h2>\n",
        "\n",
        "---\n",
        "\n",
        "Penelitian yang akan dilakukan ini berkaitan dengan rencana global \"*Sustainable Development Goals*\" yang berfokus pada tujuan ke-8 yaitu \"*Decent Work and Economic Growth*\".\n",
        "\n",
        "Pada penelitian ini akan dilakukan analisis, pengolahan, dan pemodelan data, mengenai perkembangan ekonomi, laju ekonomi, dan angka pengangguran di seluruh provinsi Indonesia.\n"
      ],
      "metadata": {
        "id": "R7N1rto6Tjko"
      }
    },
    {
      "cell_type": "markdown",
      "source": [
        "---\n",
        "\n",
        "<h2><b>Business Understanding</b></h2>\n",
        "\n",
        "---\n",
        "\n",
        "* Latar Belakang Masalah\n",
        "\n",
        "Ekonomi merupakan salah satu komponen/sektor terpenting pada suatu negara, bahkan dunia. Dengan pembangunan ekonomi, suatu negara dapat mendapatkan ketersediaan kebutuhan hidup seperti kebutuhan pokok, pangan, sandang, papan, pendidikan, kesehatan, dan lainnya.\n",
        "\n",
        "Di Indonesia, ekonomi banyak memberikan dampak bagi masyarakat. Terutama ketika terjadinya pandemi covid-19 yang menyebabkan maraknya perubahan pada ekonomi Indonesia, seperti fluktuasi terhadap harga bahan pokok, masyarakat yang kehilangan pekerjaan karena perusahaan yang terdampak pandemi, pekerja yang terjangkit tidak dapat bekerja dan memerlukan biaya perawatan.\n",
        "\n",
        "Dikutip dari Badan Pusat Statistik, pada bulan Agustus tahun 2022, Indonesia memiliki persentase tingkat pengangguran terbuka sebesar 5,86%. Angka tersebut relatif lebih besar bila dibandingkan dengan negara lain di Asia Tenggara. Hal ini mungkin disebabkan karena masih kurangnya lowongan kerja yang layak, keengganan beberapa golongan masyarakat untuk bekerja secara layak, ataupun pengetahuan, wawasan, dan keterampilan tentang dunia kerja yang belum memenuhi standar. \n",
        "\n",
        "Selain itu, jumlah provinsi di Indonesia saat ini adalah sebanyak 37 provinsi. Hal tersebut juga dapat menjadi faktor laju ekonomi serta angka pengangguran di Indonesia belum cukup baik, dikarenakan pembangunan ekonomi yang belum merata kepada seluruh bagian negeri Indonesia.\n",
        "\n",
        "* Identifikasi Masalah\n",
        "\n",
        "Berdasarkan latar belakang tersebut. Pada penelitian ini, akan dilakukan analisis dan penyelesaian masalah-masalah berikut.\n",
        "1. Bagaimana perubahan angka pengangguran di Indonesia di setiap tahunnya?\n",
        "2. Provinsi Indonesia mana yang memiliki tingkat pengangguran tertinggi?\n",
        "3. Bagaimana laju pertumbuhan ekonomi pada setiap provinsi di Indonesia?\n",
        "4. Provinsi Indonesia mana yang memiliki pertumbuhan ekonomi tertinggi dan terendah?\n",
        "5. Bagaimana prediksi laju ekonomi pada tahun berikutnya pada masing-masing provinsi?\n",
        "\n",
        "* Metode Pendekatan Masalah\n",
        "\n",
        "Untuk pendekatan dan penyelesaian masalah, akan diimplementasikan model pembelajaran mesin.\n",
        "\n",
        "Model pembelajaran mesin yang akan digunakan adalah antara Regresi. Regresi merupakan model untuk melakukan prediksi atau ramalan terhadap nilai, berdasarkan keterkaitan dua variabel atau lebih. Algoritma regresi yang digunakan adalah Regresi Linear Sederhana dan Regresi Linear Berganda.\n",
        "\n",
        "* Tujuan Penelitian\n",
        "\n",
        "Dengan dilakukan penelitian ini, diharapkan dapat memenuhi tujuan-tujuan berikut.\n",
        "1. Mengetahui perubahan angka pengangguran di Indonesia setiap tahunnya.\n",
        "2. Mengetahui provinsi di Indonesia yang memiliki tingkat pengangguran tertinggi.\n",
        "3. Mengetahui laju pertumbuhan ekonomi di Indonesia.\n",
        "4. Mengetahui provinsi di Indonesia yang memiliki pertumbuhan ekonomi tertinggi dan terendah.\n",
        "5. Memprediksi nilai laju pertumbuhan ekonomi untuk tahun berikutnya di setiap provinsi.\n",
        "\n",
        "* Timeline Penelitian\n",
        "\n",
        "Penelitian akan dilakukan selama 6 minggu, yang sudah diatur penjadwalannya untuk menentukan tema, merumuskan masalah, mencari referensi, mencari data, menganalisis data, mempersiapkan data, pemodelan data, evaluasi, dan penyusunan laporan.\n",
        "\n",
        "Dirincikan sebagai berikut:\n",
        "* Minggu ke-1: Penentuan dan Fiksasi Tema, Business Understanding\n",
        "* Minggu ke-2: Data Understanding\n",
        "* Minggu ke-3: Data Preparation\n",
        "* Minggu ke-4: Data Modeling\n",
        "* Minggu ke-5: Evaluasi\n",
        "* Minggu ke-6: Penyusunan Laporan\n"
      ],
      "metadata": {
        "id": "0R6a8CEONJz8"
      }
    },
    {
      "cell_type": "markdown",
      "source": [
        "---\n",
        "\n",
        "<h2><b>Data Understanding</b></h2>\n",
        "\n",
        "---\n",
        "\n",
        "\n",
        "Data yang akan digunakan pada penelitian ini adalah data yang berkaitan dengan pertumbuhan ekonomi dan hal-hal yang memengaruhi laju pertumbuhan ekonomi di indonesia.  \n",
        "\n",
        "Data tersebut diperoleh dari BAPPENAS (Badan Perencanaan Pembangunan Nasional)*. Pada situs BAPPENAS, terdapat banyak data yang berkaitan dengan ekonomi indonesia namun belum terintegrasi, sehingga perlu dilakukan penyiapan, penyeragaman, dan penggabungan terlebih dahulu sebelum dapat digunakan pada penelitian ini.\n",
        "\n",
        "Data yang akan kami gunakan pada penelitian ini adalah sebagai berikut:\n",
        "- Provinsi: seluruh provinsi Indonesia sebanyak 34.\n",
        "- Tahun: tahun, yaitu 2013-2021.\n",
        "- Tingkat Pengangguran Terbuka: angka pengangguran per tahun pada masing-masing provinsi. \n",
        "- Tingkat Kemiskinan: angka kemiskinan per tahun pada masing-masing provinsi.\n",
        "- Rasio Gini: angka rasio gini per tahun pada masing-masing provinsi.\n",
        "- Indeks Pembangunan Manusia: angka IPM per tahun pada masing-masing provinsi.\n",
        "- Laju Pertumbuhan Ekonomi: angka laju pertumbuhan ekonomi per tahun pada masing-masing provinsi.\n",
        "\n",
        "Keterangan:\n",
        "\n",
        "- Tingkat Pengangguran Terbuka adalah persentase jumlah pengangguran terhadap jumlah angkatan kerja.\n",
        "- Rasio gini adalah indikator yang menunjukkan tingkat ketimpangan pengeluaran secara menyeluruh, antara pendapatan suatu kelas dengan kelas lainnya. Nilai rasio gini berada di kisaran 0 sampai 1.\n",
        "- Indeks Pembangunan Manusia adalah indikator untuk mengukur keberhasilan dalam pembangunan kualitas hidup manusia. Dihitung dari indeks kesehatan, indeks pendidikan, dan indeks pengeluaran.\n",
        "\n",
        "\n",
        "*URL BAPENNAS: https://simreg.bappenas.go.id/"
      ],
      "metadata": {
        "id": "-eC9t3MJSLQG"
      }
    },
    {
      "cell_type": "markdown",
      "source": [
        "---\n",
        "\n",
        "<h2><b>Data Preparation</b></h2>\n",
        "\n",
        "---\n",
        "\n"
      ],
      "metadata": {
        "id": "AnMaQaF4STic"
      }
    },
    {
      "cell_type": "code",
      "source": [
        "from google.colab import drive\n",
        "drive.mount('/content/drive')"
      ],
      "metadata": {
        "id": "UwFqr4S1Scel",
        "colab": {
          "base_uri": "https://localhost:8080/"
        },
        "outputId": "25108048-76b8-4846-c3fb-c51a3588cede"
      },
      "execution_count": null,
      "outputs": [
        {
          "output_type": "stream",
          "name": "stdout",
          "text": [
            "Mounted at /content/drive\n"
          ]
        }
      ]
    },
    {
      "cell_type": "code",
      "source": [
        "#Library\n",
        "import pandas as pd"
      ],
      "metadata": {
        "id": "rUCc7r3P5JYE"
      },
      "execution_count": null,
      "outputs": []
    },
    {
      "cell_type": "code",
      "source": [
        "#Load Data dan Tampilkan\n",
        "df = pd.read_csv(\"/content/drive/MyDrive/data_penelitian_kel_7.csv\")\n",
        "df"
      ],
      "metadata": {
        "colab": {
          "base_uri": "https://localhost:8080/",
          "height": 424
        },
        "id": "Z0eYJ8oFy-4L",
        "outputId": "a13979c0-b6ad-4aa7-89c0-4a59005c72f3"
      },
      "execution_count": null,
      "outputs": [
        {
          "output_type": "execute_result",
          "data": {
            "text/plain": [
              "           provinsi  tahun  tingkat_kemiskinan  tingkat_pengangguran  \\\n",
              "0              Aceh   2013               17.60                  8.34   \n",
              "1    Sumatera Utara   2013               10.06                  6.09   \n",
              "2    Sumatera Barat   2013                8.14                  6.39   \n",
              "3              Riau   2013                7.72                  4.19   \n",
              "4             Jambi   2013                8.07                  2.89   \n",
              "..              ...    ...                 ...                   ...   \n",
              "301  Sulawesi Barat   2021               11.85                  3.13   \n",
              "302          Maluku   2021               16.30                  6.93   \n",
              "303    Maluku Utara   2021                6.38                  4.71   \n",
              "304     Papua Barat   2021               21.82                  5.84   \n",
              "305           Papua   2021               27.38                  3.33   \n",
              "\n",
              "     rasio_gini    ipm  laju_ekonomi  \n",
              "0         0.331  68.30          3.04  \n",
              "1         0.328  68.36          5.67  \n",
              "2         0.351  68.91          7.02  \n",
              "3         0.393  69.91          1.05  \n",
              "4         0.327  67.76          6.39  \n",
              "..          ...    ...           ...  \n",
              "301       0.366  66.36          2.56  \n",
              "302       0.316  69.71          3.04  \n",
              "303       0.278  68.76         16.40  \n",
              "304       0.374  65.26         -0.51  \n",
              "305       0.396  60.62         15.11  \n",
              "\n",
              "[306 rows x 7 columns]"
            ],
            "text/html": [
              "\n",
              "  <div id=\"df-29139aad-04ab-4168-9cd5-bb57a0659bf3\">\n",
              "    <div class=\"colab-df-container\">\n",
              "      <div>\n",
              "<style scoped>\n",
              "    .dataframe tbody tr th:only-of-type {\n",
              "        vertical-align: middle;\n",
              "    }\n",
              "\n",
              "    .dataframe tbody tr th {\n",
              "        vertical-align: top;\n",
              "    }\n",
              "\n",
              "    .dataframe thead th {\n",
              "        text-align: right;\n",
              "    }\n",
              "</style>\n",
              "<table border=\"1\" class=\"dataframe\">\n",
              "  <thead>\n",
              "    <tr style=\"text-align: right;\">\n",
              "      <th></th>\n",
              "      <th>provinsi</th>\n",
              "      <th>tahun</th>\n",
              "      <th>tingkat_kemiskinan</th>\n",
              "      <th>tingkat_pengangguran</th>\n",
              "      <th>rasio_gini</th>\n",
              "      <th>ipm</th>\n",
              "      <th>laju_ekonomi</th>\n",
              "    </tr>\n",
              "  </thead>\n",
              "  <tbody>\n",
              "    <tr>\n",
              "      <th>0</th>\n",
              "      <td>Aceh</td>\n",
              "      <td>2013</td>\n",
              "      <td>17.60</td>\n",
              "      <td>8.34</td>\n",
              "      <td>0.331</td>\n",
              "      <td>68.30</td>\n",
              "      <td>3.04</td>\n",
              "    </tr>\n",
              "    <tr>\n",
              "      <th>1</th>\n",
              "      <td>Sumatera Utara</td>\n",
              "      <td>2013</td>\n",
              "      <td>10.06</td>\n",
              "      <td>6.09</td>\n",
              "      <td>0.328</td>\n",
              "      <td>68.36</td>\n",
              "      <td>5.67</td>\n",
              "    </tr>\n",
              "    <tr>\n",
              "      <th>2</th>\n",
              "      <td>Sumatera Barat</td>\n",
              "      <td>2013</td>\n",
              "      <td>8.14</td>\n",
              "      <td>6.39</td>\n",
              "      <td>0.351</td>\n",
              "      <td>68.91</td>\n",
              "      <td>7.02</td>\n",
              "    </tr>\n",
              "    <tr>\n",
              "      <th>3</th>\n",
              "      <td>Riau</td>\n",
              "      <td>2013</td>\n",
              "      <td>7.72</td>\n",
              "      <td>4.19</td>\n",
              "      <td>0.393</td>\n",
              "      <td>69.91</td>\n",
              "      <td>1.05</td>\n",
              "    </tr>\n",
              "    <tr>\n",
              "      <th>4</th>\n",
              "      <td>Jambi</td>\n",
              "      <td>2013</td>\n",
              "      <td>8.07</td>\n",
              "      <td>2.89</td>\n",
              "      <td>0.327</td>\n",
              "      <td>67.76</td>\n",
              "      <td>6.39</td>\n",
              "    </tr>\n",
              "    <tr>\n",
              "      <th>...</th>\n",
              "      <td>...</td>\n",
              "      <td>...</td>\n",
              "      <td>...</td>\n",
              "      <td>...</td>\n",
              "      <td>...</td>\n",
              "      <td>...</td>\n",
              "      <td>...</td>\n",
              "    </tr>\n",
              "    <tr>\n",
              "      <th>301</th>\n",
              "      <td>Sulawesi Barat</td>\n",
              "      <td>2021</td>\n",
              "      <td>11.85</td>\n",
              "      <td>3.13</td>\n",
              "      <td>0.366</td>\n",
              "      <td>66.36</td>\n",
              "      <td>2.56</td>\n",
              "    </tr>\n",
              "    <tr>\n",
              "      <th>302</th>\n",
              "      <td>Maluku</td>\n",
              "      <td>2021</td>\n",
              "      <td>16.30</td>\n",
              "      <td>6.93</td>\n",
              "      <td>0.316</td>\n",
              "      <td>69.71</td>\n",
              "      <td>3.04</td>\n",
              "    </tr>\n",
              "    <tr>\n",
              "      <th>303</th>\n",
              "      <td>Maluku Utara</td>\n",
              "      <td>2021</td>\n",
              "      <td>6.38</td>\n",
              "      <td>4.71</td>\n",
              "      <td>0.278</td>\n",
              "      <td>68.76</td>\n",
              "      <td>16.40</td>\n",
              "    </tr>\n",
              "    <tr>\n",
              "      <th>304</th>\n",
              "      <td>Papua Barat</td>\n",
              "      <td>2021</td>\n",
              "      <td>21.82</td>\n",
              "      <td>5.84</td>\n",
              "      <td>0.374</td>\n",
              "      <td>65.26</td>\n",
              "      <td>-0.51</td>\n",
              "    </tr>\n",
              "    <tr>\n",
              "      <th>305</th>\n",
              "      <td>Papua</td>\n",
              "      <td>2021</td>\n",
              "      <td>27.38</td>\n",
              "      <td>3.33</td>\n",
              "      <td>0.396</td>\n",
              "      <td>60.62</td>\n",
              "      <td>15.11</td>\n",
              "    </tr>\n",
              "  </tbody>\n",
              "</table>\n",
              "<p>306 rows × 7 columns</p>\n",
              "</div>\n",
              "      <button class=\"colab-df-convert\" onclick=\"convertToInteractive('df-29139aad-04ab-4168-9cd5-bb57a0659bf3')\"\n",
              "              title=\"Convert this dataframe to an interactive table.\"\n",
              "              style=\"display:none;\">\n",
              "        \n",
              "  <svg xmlns=\"http://www.w3.org/2000/svg\" height=\"24px\"viewBox=\"0 0 24 24\"\n",
              "       width=\"24px\">\n",
              "    <path d=\"M0 0h24v24H0V0z\" fill=\"none\"/>\n",
              "    <path d=\"M18.56 5.44l.94 2.06.94-2.06 2.06-.94-2.06-.94-.94-2.06-.94 2.06-2.06.94zm-11 1L8.5 8.5l.94-2.06 2.06-.94-2.06-.94L8.5 2.5l-.94 2.06-2.06.94zm10 10l.94 2.06.94-2.06 2.06-.94-2.06-.94-.94-2.06-.94 2.06-2.06.94z\"/><path d=\"M17.41 7.96l-1.37-1.37c-.4-.4-.92-.59-1.43-.59-.52 0-1.04.2-1.43.59L10.3 9.45l-7.72 7.72c-.78.78-.78 2.05 0 2.83L4 21.41c.39.39.9.59 1.41.59.51 0 1.02-.2 1.41-.59l7.78-7.78 2.81-2.81c.8-.78.8-2.07 0-2.86zM5.41 20L4 18.59l7.72-7.72 1.47 1.35L5.41 20z\"/>\n",
              "  </svg>\n",
              "      </button>\n",
              "      \n",
              "  <style>\n",
              "    .colab-df-container {\n",
              "      display:flex;\n",
              "      flex-wrap:wrap;\n",
              "      gap: 12px;\n",
              "    }\n",
              "\n",
              "    .colab-df-convert {\n",
              "      background-color: #E8F0FE;\n",
              "      border: none;\n",
              "      border-radius: 50%;\n",
              "      cursor: pointer;\n",
              "      display: none;\n",
              "      fill: #1967D2;\n",
              "      height: 32px;\n",
              "      padding: 0 0 0 0;\n",
              "      width: 32px;\n",
              "    }\n",
              "\n",
              "    .colab-df-convert:hover {\n",
              "      background-color: #E2EBFA;\n",
              "      box-shadow: 0px 1px 2px rgba(60, 64, 67, 0.3), 0px 1px 3px 1px rgba(60, 64, 67, 0.15);\n",
              "      fill: #174EA6;\n",
              "    }\n",
              "\n",
              "    [theme=dark] .colab-df-convert {\n",
              "      background-color: #3B4455;\n",
              "      fill: #D2E3FC;\n",
              "    }\n",
              "\n",
              "    [theme=dark] .colab-df-convert:hover {\n",
              "      background-color: #434B5C;\n",
              "      box-shadow: 0px 1px 3px 1px rgba(0, 0, 0, 0.15);\n",
              "      filter: drop-shadow(0px 1px 2px rgba(0, 0, 0, 0.3));\n",
              "      fill: #FFFFFF;\n",
              "    }\n",
              "  </style>\n",
              "\n",
              "      <script>\n",
              "        const buttonEl =\n",
              "          document.querySelector('#df-29139aad-04ab-4168-9cd5-bb57a0659bf3 button.colab-df-convert');\n",
              "        buttonEl.style.display =\n",
              "          google.colab.kernel.accessAllowed ? 'block' : 'none';\n",
              "\n",
              "        async function convertToInteractive(key) {\n",
              "          const element = document.querySelector('#df-29139aad-04ab-4168-9cd5-bb57a0659bf3');\n",
              "          const dataTable =\n",
              "            await google.colab.kernel.invokeFunction('convertToInteractive',\n",
              "                                                     [key], {});\n",
              "          if (!dataTable) return;\n",
              "\n",
              "          const docLinkHtml = 'Like what you see? Visit the ' +\n",
              "            '<a target=\"_blank\" href=https://colab.research.google.com/notebooks/data_table.ipynb>data table notebook</a>'\n",
              "            + ' to learn more about interactive tables.';\n",
              "          element.innerHTML = '';\n",
              "          dataTable['output_type'] = 'display_data';\n",
              "          await google.colab.output.renderOutput(dataTable, element);\n",
              "          const docLink = document.createElement('div');\n",
              "          docLink.innerHTML = docLinkHtml;\n",
              "          element.appendChild(docLink);\n",
              "        }\n",
              "      </script>\n",
              "    </div>\n",
              "  </div>\n",
              "  "
            ]
          },
          "metadata": {},
          "execution_count": 3
        }
      ]
    },
    {
      "cell_type": "code",
      "source": [
        "#Tampilkan Informasi Data dan Tipe Data\n",
        "df.info()"
      ],
      "metadata": {
        "colab": {
          "base_uri": "https://localhost:8080/"
        },
        "id": "Mi0Z17jDDss-",
        "outputId": "908da854-ae37-45ae-b49f-06e99e77a8b6"
      },
      "execution_count": null,
      "outputs": [
        {
          "output_type": "stream",
          "name": "stdout",
          "text": [
            "<class 'pandas.core.frame.DataFrame'>\n",
            "RangeIndex: 306 entries, 0 to 305\n",
            "Data columns (total 7 columns):\n",
            " #   Column                Non-Null Count  Dtype  \n",
            "---  ------                --------------  -----  \n",
            " 0   provinsi              306 non-null    object \n",
            " 1   tahun                 306 non-null    int64  \n",
            " 2   tingkat_kemiskinan    306 non-null    float64\n",
            " 3   tingkat_pengangguran  306 non-null    float64\n",
            " 4   rasio_gini            306 non-null    float64\n",
            " 5   ipm                   306 non-null    float64\n",
            " 6   laju_ekonomi          306 non-null    float64\n",
            "dtypes: float64(5), int64(1), object(1)\n",
            "memory usage: 16.9+ KB\n"
          ]
        }
      ]
    },
    {
      "cell_type": "code",
      "source": [
        "df.isnull().sum()"
      ],
      "metadata": {
        "colab": {
          "base_uri": "https://localhost:8080/"
        },
        "id": "If0xEWE1_Y3T",
        "outputId": "6e604650-c397-4f39-a49c-45792ee763a8"
      },
      "execution_count": null,
      "outputs": [
        {
          "output_type": "execute_result",
          "data": {
            "text/plain": [
              "provinsi                0\n",
              "tahun                   0\n",
              "tingkat_kemiskinan      0\n",
              "tingkat_pengangguran    0\n",
              "rasio_gini              0\n",
              "ipm                     0\n",
              "laju_ekonomi            0\n",
              "dtype: int64"
            ]
          },
          "metadata": {},
          "execution_count": 5
        }
      ]
    },
    {
      "cell_type": "code",
      "source": [
        "df[['provinsi', 'tahun']] = df[['provinsi', 'tahun']].astype('category')\n",
        "df.dtypes"
      ],
      "metadata": {
        "colab": {
          "base_uri": "https://localhost:8080/"
        },
        "id": "US0eP1il_kQS",
        "outputId": "5b918647-c533-470e-fae9-86bde6c49870"
      },
      "execution_count": null,
      "outputs": [
        {
          "output_type": "execute_result",
          "data": {
            "text/plain": [
              "provinsi                category\n",
              "tahun                   category\n",
              "tingkat_kemiskinan       float64\n",
              "tingkat_pengangguran     float64\n",
              "rasio_gini               float64\n",
              "ipm                      float64\n",
              "laju_ekonomi             float64\n",
              "dtype: object"
            ]
          },
          "metadata": {},
          "execution_count": 6
        }
      ]
    },
    {
      "cell_type": "code",
      "source": [
        "from sklearn.preprocessing import LabelEncoder\n",
        "label = LabelEncoder()\n",
        "label.fit(df.provinsi.drop_duplicates())\n",
        "df.provinsi = label.transform(df.provinsi)\n",
        "label.fit(df.tahun.drop_duplicates())\n",
        "df.tahun = label.transform(df.tahun)"
      ],
      "metadata": {
        "id": "VNX4fAhd_sPN"
      },
      "execution_count": null,
      "outputs": []
    },
    {
      "cell_type": "code",
      "source": [
        "df"
      ],
      "metadata": {
        "colab": {
          "base_uri": "https://localhost:8080/",
          "height": 424
        },
        "id": "SV1HeEyN_0eJ",
        "outputId": "c81ef79a-3129-41dd-bce7-68b42e194585"
      },
      "execution_count": null,
      "outputs": [
        {
          "output_type": "execute_result",
          "data": {
            "text/plain": [
              "     provinsi  tahun  tingkat_kemiskinan  tingkat_pengangguran  rasio_gini  \\\n",
              "0           0      0               17.60                  8.34       0.331   \n",
              "1          32      0               10.06                  6.09       0.328   \n",
              "2          30      0                8.14                  6.39       0.351   \n",
              "3          24      0                7.72                  4.19       0.393   \n",
              "4           7      0                8.07                  2.89       0.327   \n",
              "..        ...    ...                 ...                   ...         ...   \n",
              "301        25      8               11.85                  3.13       0.366   \n",
              "302        18      8               16.30                  6.93       0.316   \n",
              "303        19      8                6.38                  4.71       0.278   \n",
              "304        23      8               21.82                  5.84       0.374   \n",
              "305        22      8               27.38                  3.33       0.396   \n",
              "\n",
              "       ipm  laju_ekonomi  \n",
              "0    68.30          3.04  \n",
              "1    68.36          5.67  \n",
              "2    68.91          7.02  \n",
              "3    69.91          1.05  \n",
              "4    67.76          6.39  \n",
              "..     ...           ...  \n",
              "301  66.36          2.56  \n",
              "302  69.71          3.04  \n",
              "303  68.76         16.40  \n",
              "304  65.26         -0.51  \n",
              "305  60.62         15.11  \n",
              "\n",
              "[306 rows x 7 columns]"
            ],
            "text/html": [
              "\n",
              "  <div id=\"df-84108f40-994d-4d4c-9159-9e2f894d2702\">\n",
              "    <div class=\"colab-df-container\">\n",
              "      <div>\n",
              "<style scoped>\n",
              "    .dataframe tbody tr th:only-of-type {\n",
              "        vertical-align: middle;\n",
              "    }\n",
              "\n",
              "    .dataframe tbody tr th {\n",
              "        vertical-align: top;\n",
              "    }\n",
              "\n",
              "    .dataframe thead th {\n",
              "        text-align: right;\n",
              "    }\n",
              "</style>\n",
              "<table border=\"1\" class=\"dataframe\">\n",
              "  <thead>\n",
              "    <tr style=\"text-align: right;\">\n",
              "      <th></th>\n",
              "      <th>provinsi</th>\n",
              "      <th>tahun</th>\n",
              "      <th>tingkat_kemiskinan</th>\n",
              "      <th>tingkat_pengangguran</th>\n",
              "      <th>rasio_gini</th>\n",
              "      <th>ipm</th>\n",
              "      <th>laju_ekonomi</th>\n",
              "    </tr>\n",
              "  </thead>\n",
              "  <tbody>\n",
              "    <tr>\n",
              "      <th>0</th>\n",
              "      <td>0</td>\n",
              "      <td>0</td>\n",
              "      <td>17.60</td>\n",
              "      <td>8.34</td>\n",
              "      <td>0.331</td>\n",
              "      <td>68.30</td>\n",
              "      <td>3.04</td>\n",
              "    </tr>\n",
              "    <tr>\n",
              "      <th>1</th>\n",
              "      <td>32</td>\n",
              "      <td>0</td>\n",
              "      <td>10.06</td>\n",
              "      <td>6.09</td>\n",
              "      <td>0.328</td>\n",
              "      <td>68.36</td>\n",
              "      <td>5.67</td>\n",
              "    </tr>\n",
              "    <tr>\n",
              "      <th>2</th>\n",
              "      <td>30</td>\n",
              "      <td>0</td>\n",
              "      <td>8.14</td>\n",
              "      <td>6.39</td>\n",
              "      <td>0.351</td>\n",
              "      <td>68.91</td>\n",
              "      <td>7.02</td>\n",
              "    </tr>\n",
              "    <tr>\n",
              "      <th>3</th>\n",
              "      <td>24</td>\n",
              "      <td>0</td>\n",
              "      <td>7.72</td>\n",
              "      <td>4.19</td>\n",
              "      <td>0.393</td>\n",
              "      <td>69.91</td>\n",
              "      <td>1.05</td>\n",
              "    </tr>\n",
              "    <tr>\n",
              "      <th>4</th>\n",
              "      <td>7</td>\n",
              "      <td>0</td>\n",
              "      <td>8.07</td>\n",
              "      <td>2.89</td>\n",
              "      <td>0.327</td>\n",
              "      <td>67.76</td>\n",
              "      <td>6.39</td>\n",
              "    </tr>\n",
              "    <tr>\n",
              "      <th>...</th>\n",
              "      <td>...</td>\n",
              "      <td>...</td>\n",
              "      <td>...</td>\n",
              "      <td>...</td>\n",
              "      <td>...</td>\n",
              "      <td>...</td>\n",
              "      <td>...</td>\n",
              "    </tr>\n",
              "    <tr>\n",
              "      <th>301</th>\n",
              "      <td>25</td>\n",
              "      <td>8</td>\n",
              "      <td>11.85</td>\n",
              "      <td>3.13</td>\n",
              "      <td>0.366</td>\n",
              "      <td>66.36</td>\n",
              "      <td>2.56</td>\n",
              "    </tr>\n",
              "    <tr>\n",
              "      <th>302</th>\n",
              "      <td>18</td>\n",
              "      <td>8</td>\n",
              "      <td>16.30</td>\n",
              "      <td>6.93</td>\n",
              "      <td>0.316</td>\n",
              "      <td>69.71</td>\n",
              "      <td>3.04</td>\n",
              "    </tr>\n",
              "    <tr>\n",
              "      <th>303</th>\n",
              "      <td>19</td>\n",
              "      <td>8</td>\n",
              "      <td>6.38</td>\n",
              "      <td>4.71</td>\n",
              "      <td>0.278</td>\n",
              "      <td>68.76</td>\n",
              "      <td>16.40</td>\n",
              "    </tr>\n",
              "    <tr>\n",
              "      <th>304</th>\n",
              "      <td>23</td>\n",
              "      <td>8</td>\n",
              "      <td>21.82</td>\n",
              "      <td>5.84</td>\n",
              "      <td>0.374</td>\n",
              "      <td>65.26</td>\n",
              "      <td>-0.51</td>\n",
              "    </tr>\n",
              "    <tr>\n",
              "      <th>305</th>\n",
              "      <td>22</td>\n",
              "      <td>8</td>\n",
              "      <td>27.38</td>\n",
              "      <td>3.33</td>\n",
              "      <td>0.396</td>\n",
              "      <td>60.62</td>\n",
              "      <td>15.11</td>\n",
              "    </tr>\n",
              "  </tbody>\n",
              "</table>\n",
              "<p>306 rows × 7 columns</p>\n",
              "</div>\n",
              "      <button class=\"colab-df-convert\" onclick=\"convertToInteractive('df-84108f40-994d-4d4c-9159-9e2f894d2702')\"\n",
              "              title=\"Convert this dataframe to an interactive table.\"\n",
              "              style=\"display:none;\">\n",
              "        \n",
              "  <svg xmlns=\"http://www.w3.org/2000/svg\" height=\"24px\"viewBox=\"0 0 24 24\"\n",
              "       width=\"24px\">\n",
              "    <path d=\"M0 0h24v24H0V0z\" fill=\"none\"/>\n",
              "    <path d=\"M18.56 5.44l.94 2.06.94-2.06 2.06-.94-2.06-.94-.94-2.06-.94 2.06-2.06.94zm-11 1L8.5 8.5l.94-2.06 2.06-.94-2.06-.94L8.5 2.5l-.94 2.06-2.06.94zm10 10l.94 2.06.94-2.06 2.06-.94-2.06-.94-.94-2.06-.94 2.06-2.06.94z\"/><path d=\"M17.41 7.96l-1.37-1.37c-.4-.4-.92-.59-1.43-.59-.52 0-1.04.2-1.43.59L10.3 9.45l-7.72 7.72c-.78.78-.78 2.05 0 2.83L4 21.41c.39.39.9.59 1.41.59.51 0 1.02-.2 1.41-.59l7.78-7.78 2.81-2.81c.8-.78.8-2.07 0-2.86zM5.41 20L4 18.59l7.72-7.72 1.47 1.35L5.41 20z\"/>\n",
              "  </svg>\n",
              "      </button>\n",
              "      \n",
              "  <style>\n",
              "    .colab-df-container {\n",
              "      display:flex;\n",
              "      flex-wrap:wrap;\n",
              "      gap: 12px;\n",
              "    }\n",
              "\n",
              "    .colab-df-convert {\n",
              "      background-color: #E8F0FE;\n",
              "      border: none;\n",
              "      border-radius: 50%;\n",
              "      cursor: pointer;\n",
              "      display: none;\n",
              "      fill: #1967D2;\n",
              "      height: 32px;\n",
              "      padding: 0 0 0 0;\n",
              "      width: 32px;\n",
              "    }\n",
              "\n",
              "    .colab-df-convert:hover {\n",
              "      background-color: #E2EBFA;\n",
              "      box-shadow: 0px 1px 2px rgba(60, 64, 67, 0.3), 0px 1px 3px 1px rgba(60, 64, 67, 0.15);\n",
              "      fill: #174EA6;\n",
              "    }\n",
              "\n",
              "    [theme=dark] .colab-df-convert {\n",
              "      background-color: #3B4455;\n",
              "      fill: #D2E3FC;\n",
              "    }\n",
              "\n",
              "    [theme=dark] .colab-df-convert:hover {\n",
              "      background-color: #434B5C;\n",
              "      box-shadow: 0px 1px 3px 1px rgba(0, 0, 0, 0.15);\n",
              "      filter: drop-shadow(0px 1px 2px rgba(0, 0, 0, 0.3));\n",
              "      fill: #FFFFFF;\n",
              "    }\n",
              "  </style>\n",
              "\n",
              "      <script>\n",
              "        const buttonEl =\n",
              "          document.querySelector('#df-84108f40-994d-4d4c-9159-9e2f894d2702 button.colab-df-convert');\n",
              "        buttonEl.style.display =\n",
              "          google.colab.kernel.accessAllowed ? 'block' : 'none';\n",
              "\n",
              "        async function convertToInteractive(key) {\n",
              "          const element = document.querySelector('#df-84108f40-994d-4d4c-9159-9e2f894d2702');\n",
              "          const dataTable =\n",
              "            await google.colab.kernel.invokeFunction('convertToInteractive',\n",
              "                                                     [key], {});\n",
              "          if (!dataTable) return;\n",
              "\n",
              "          const docLinkHtml = 'Like what you see? Visit the ' +\n",
              "            '<a target=\"_blank\" href=https://colab.research.google.com/notebooks/data_table.ipynb>data table notebook</a>'\n",
              "            + ' to learn more about interactive tables.';\n",
              "          element.innerHTML = '';\n",
              "          dataTable['output_type'] = 'display_data';\n",
              "          await google.colab.output.renderOutput(dataTable, element);\n",
              "          const docLink = document.createElement('div');\n",
              "          docLink.innerHTML = docLinkHtml;\n",
              "          element.appendChild(docLink);\n",
              "        }\n",
              "      </script>\n",
              "    </div>\n",
              "  </div>\n",
              "  "
            ]
          },
          "metadata": {},
          "execution_count": 8
        }
      ]
    },
    {
      "cell_type": "markdown",
      "source": [
        "---\n",
        "\n",
        "<h2><b>Data Modeling</b></h2>\n",
        "\n",
        "---\n",
        "\n"
      ],
      "metadata": {
        "id": "W40UIhIPSXUA"
      }
    },
    {
      "cell_type": "markdown",
      "source": [
        "\n",
        "\n",
        "<h5><b>Regresi Linear Berganda</b></h5>\n",
        "\n",
        "---"
      ],
      "metadata": {
        "id": "XlCdZSy8jP1p"
      }
    },
    {
      "cell_type": "code",
      "execution_count": null,
      "metadata": {
        "id": "Duw2NTjGMHLF"
      },
      "outputs": [],
      "source": [
        "import numpy as np\n",
        "from sklearn.model_selection import train_test_split\n",
        "\n",
        "np.random.seed(0)\n",
        "df_train, df_test = train_test_split(df, train_size = 0.8, test_size = 0.2, random_state = 42)"
      ]
    },
    {
      "cell_type": "code",
      "source": [
        "from sklearn.preprocessing import MinMaxScaler\n",
        "scaler = MinMaxScaler()\n",
        "\n",
        "num_vars = ['tingkat_kemiskinan','tingkat_pengangguran'\t,'rasio_gini', 'ipm', 'laju_ekonomi']\n",
        "df[num_vars] = scaler.fit_transform(df[num_vars])\n",
        "\n",
        "num_vars = ['tingkat_kemiskinan','tingkat_pengangguran'\t,'rasio_gini', 'ipm', 'laju_ekonomi']\n",
        "df_train[num_vars] = scaler.fit_transform(df_train[num_vars])"
      ],
      "metadata": {
        "id": "ekIO6xZdAGB0"
      },
      "execution_count": null,
      "outputs": []
    },
    {
      "cell_type": "code",
      "source": [
        "df"
      ],
      "metadata": {
        "colab": {
          "base_uri": "https://localhost:8080/",
          "height": 424
        },
        "id": "ZqSX8XttB6iO",
        "outputId": "9891bf47-8d77-4290-f42a-060085c4979b"
      },
      "execution_count": null,
      "outputs": [
        {
          "output_type": "execute_result",
          "data": {
            "text/plain": [
              "     provinsi  tahun  tingkat_kemiskinan  tingkat_pengangguran  rasio_gini  \\\n",
              "0           0      0            0.565371              0.761644    0.721133   \n",
              "1          32      0            0.323161              0.556164    0.714597   \n",
              "2          30      0            0.261484              0.583562    0.764706   \n",
              "3          24      0            0.247992              0.382648    0.856209   \n",
              "4           7      0            0.259235              0.263927    0.712418   \n",
              "..        ...    ...                 ...                   ...         ...   \n",
              "301        25      8            0.380662              0.285845    0.797386   \n",
              "302        18      8            0.523611              0.632877    0.688453   \n",
              "303        19      8            0.204947              0.430137    0.605664   \n",
              "304        23      8            0.700932              0.533333    0.814815   \n",
              "305        22      8            0.879537              0.304110    0.862745   \n",
              "\n",
              "          ipm  laju_ekonomi  \n",
              "0    0.484714      0.376957  \n",
              "1    0.487128      0.429747  \n",
              "2    0.509252      0.456845  \n",
              "3    0.549477      0.337013  \n",
              "4    0.462993      0.444199  \n",
              "..        ...           ...  \n",
              "301  0.406677      0.367322  \n",
              "302  0.541432      0.376957  \n",
              "303  0.503218      0.645122  \n",
              "304  0.362430      0.305701  \n",
              "305  0.175784      0.619229  \n",
              "\n",
              "[306 rows x 7 columns]"
            ],
            "text/html": [
              "\n",
              "  <div id=\"df-9d56bc61-6098-43ca-8d6f-3e783e28e507\">\n",
              "    <div class=\"colab-df-container\">\n",
              "      <div>\n",
              "<style scoped>\n",
              "    .dataframe tbody tr th:only-of-type {\n",
              "        vertical-align: middle;\n",
              "    }\n",
              "\n",
              "    .dataframe tbody tr th {\n",
              "        vertical-align: top;\n",
              "    }\n",
              "\n",
              "    .dataframe thead th {\n",
              "        text-align: right;\n",
              "    }\n",
              "</style>\n",
              "<table border=\"1\" class=\"dataframe\">\n",
              "  <thead>\n",
              "    <tr style=\"text-align: right;\">\n",
              "      <th></th>\n",
              "      <th>provinsi</th>\n",
              "      <th>tahun</th>\n",
              "      <th>tingkat_kemiskinan</th>\n",
              "      <th>tingkat_pengangguran</th>\n",
              "      <th>rasio_gini</th>\n",
              "      <th>ipm</th>\n",
              "      <th>laju_ekonomi</th>\n",
              "    </tr>\n",
              "  </thead>\n",
              "  <tbody>\n",
              "    <tr>\n",
              "      <th>0</th>\n",
              "      <td>0</td>\n",
              "      <td>0</td>\n",
              "      <td>0.565371</td>\n",
              "      <td>0.761644</td>\n",
              "      <td>0.721133</td>\n",
              "      <td>0.484714</td>\n",
              "      <td>0.376957</td>\n",
              "    </tr>\n",
              "    <tr>\n",
              "      <th>1</th>\n",
              "      <td>32</td>\n",
              "      <td>0</td>\n",
              "      <td>0.323161</td>\n",
              "      <td>0.556164</td>\n",
              "      <td>0.714597</td>\n",
              "      <td>0.487128</td>\n",
              "      <td>0.429747</td>\n",
              "    </tr>\n",
              "    <tr>\n",
              "      <th>2</th>\n",
              "      <td>30</td>\n",
              "      <td>0</td>\n",
              "      <td>0.261484</td>\n",
              "      <td>0.583562</td>\n",
              "      <td>0.764706</td>\n",
              "      <td>0.509252</td>\n",
              "      <td>0.456845</td>\n",
              "    </tr>\n",
              "    <tr>\n",
              "      <th>3</th>\n",
              "      <td>24</td>\n",
              "      <td>0</td>\n",
              "      <td>0.247992</td>\n",
              "      <td>0.382648</td>\n",
              "      <td>0.856209</td>\n",
              "      <td>0.549477</td>\n",
              "      <td>0.337013</td>\n",
              "    </tr>\n",
              "    <tr>\n",
              "      <th>4</th>\n",
              "      <td>7</td>\n",
              "      <td>0</td>\n",
              "      <td>0.259235</td>\n",
              "      <td>0.263927</td>\n",
              "      <td>0.712418</td>\n",
              "      <td>0.462993</td>\n",
              "      <td>0.444199</td>\n",
              "    </tr>\n",
              "    <tr>\n",
              "      <th>...</th>\n",
              "      <td>...</td>\n",
              "      <td>...</td>\n",
              "      <td>...</td>\n",
              "      <td>...</td>\n",
              "      <td>...</td>\n",
              "      <td>...</td>\n",
              "      <td>...</td>\n",
              "    </tr>\n",
              "    <tr>\n",
              "      <th>301</th>\n",
              "      <td>25</td>\n",
              "      <td>8</td>\n",
              "      <td>0.380662</td>\n",
              "      <td>0.285845</td>\n",
              "      <td>0.797386</td>\n",
              "      <td>0.406677</td>\n",
              "      <td>0.367322</td>\n",
              "    </tr>\n",
              "    <tr>\n",
              "      <th>302</th>\n",
              "      <td>18</td>\n",
              "      <td>8</td>\n",
              "      <td>0.523611</td>\n",
              "      <td>0.632877</td>\n",
              "      <td>0.688453</td>\n",
              "      <td>0.541432</td>\n",
              "      <td>0.376957</td>\n",
              "    </tr>\n",
              "    <tr>\n",
              "      <th>303</th>\n",
              "      <td>19</td>\n",
              "      <td>8</td>\n",
              "      <td>0.204947</td>\n",
              "      <td>0.430137</td>\n",
              "      <td>0.605664</td>\n",
              "      <td>0.503218</td>\n",
              "      <td>0.645122</td>\n",
              "    </tr>\n",
              "    <tr>\n",
              "      <th>304</th>\n",
              "      <td>23</td>\n",
              "      <td>8</td>\n",
              "      <td>0.700932</td>\n",
              "      <td>0.533333</td>\n",
              "      <td>0.814815</td>\n",
              "      <td>0.362430</td>\n",
              "      <td>0.305701</td>\n",
              "    </tr>\n",
              "    <tr>\n",
              "      <th>305</th>\n",
              "      <td>22</td>\n",
              "      <td>8</td>\n",
              "      <td>0.879537</td>\n",
              "      <td>0.304110</td>\n",
              "      <td>0.862745</td>\n",
              "      <td>0.175784</td>\n",
              "      <td>0.619229</td>\n",
              "    </tr>\n",
              "  </tbody>\n",
              "</table>\n",
              "<p>306 rows × 7 columns</p>\n",
              "</div>\n",
              "      <button class=\"colab-df-convert\" onclick=\"convertToInteractive('df-9d56bc61-6098-43ca-8d6f-3e783e28e507')\"\n",
              "              title=\"Convert this dataframe to an interactive table.\"\n",
              "              style=\"display:none;\">\n",
              "        \n",
              "  <svg xmlns=\"http://www.w3.org/2000/svg\" height=\"24px\"viewBox=\"0 0 24 24\"\n",
              "       width=\"24px\">\n",
              "    <path d=\"M0 0h24v24H0V0z\" fill=\"none\"/>\n",
              "    <path d=\"M18.56 5.44l.94 2.06.94-2.06 2.06-.94-2.06-.94-.94-2.06-.94 2.06-2.06.94zm-11 1L8.5 8.5l.94-2.06 2.06-.94-2.06-.94L8.5 2.5l-.94 2.06-2.06.94zm10 10l.94 2.06.94-2.06 2.06-.94-2.06-.94-.94-2.06-.94 2.06-2.06.94z\"/><path d=\"M17.41 7.96l-1.37-1.37c-.4-.4-.92-.59-1.43-.59-.52 0-1.04.2-1.43.59L10.3 9.45l-7.72 7.72c-.78.78-.78 2.05 0 2.83L4 21.41c.39.39.9.59 1.41.59.51 0 1.02-.2 1.41-.59l7.78-7.78 2.81-2.81c.8-.78.8-2.07 0-2.86zM5.41 20L4 18.59l7.72-7.72 1.47 1.35L5.41 20z\"/>\n",
              "  </svg>\n",
              "      </button>\n",
              "      \n",
              "  <style>\n",
              "    .colab-df-container {\n",
              "      display:flex;\n",
              "      flex-wrap:wrap;\n",
              "      gap: 12px;\n",
              "    }\n",
              "\n",
              "    .colab-df-convert {\n",
              "      background-color: #E8F0FE;\n",
              "      border: none;\n",
              "      border-radius: 50%;\n",
              "      cursor: pointer;\n",
              "      display: none;\n",
              "      fill: #1967D2;\n",
              "      height: 32px;\n",
              "      padding: 0 0 0 0;\n",
              "      width: 32px;\n",
              "    }\n",
              "\n",
              "    .colab-df-convert:hover {\n",
              "      background-color: #E2EBFA;\n",
              "      box-shadow: 0px 1px 2px rgba(60, 64, 67, 0.3), 0px 1px 3px 1px rgba(60, 64, 67, 0.15);\n",
              "      fill: #174EA6;\n",
              "    }\n",
              "\n",
              "    [theme=dark] .colab-df-convert {\n",
              "      background-color: #3B4455;\n",
              "      fill: #D2E3FC;\n",
              "    }\n",
              "\n",
              "    [theme=dark] .colab-df-convert:hover {\n",
              "      background-color: #434B5C;\n",
              "      box-shadow: 0px 1px 3px 1px rgba(0, 0, 0, 0.15);\n",
              "      filter: drop-shadow(0px 1px 2px rgba(0, 0, 0, 0.3));\n",
              "      fill: #FFFFFF;\n",
              "    }\n",
              "  </style>\n",
              "\n",
              "      <script>\n",
              "        const buttonEl =\n",
              "          document.querySelector('#df-9d56bc61-6098-43ca-8d6f-3e783e28e507 button.colab-df-convert');\n",
              "        buttonEl.style.display =\n",
              "          google.colab.kernel.accessAllowed ? 'block' : 'none';\n",
              "\n",
              "        async function convertToInteractive(key) {\n",
              "          const element = document.querySelector('#df-9d56bc61-6098-43ca-8d6f-3e783e28e507');\n",
              "          const dataTable =\n",
              "            await google.colab.kernel.invokeFunction('convertToInteractive',\n",
              "                                                     [key], {});\n",
              "          if (!dataTable) return;\n",
              "\n",
              "          const docLinkHtml = 'Like what you see? Visit the ' +\n",
              "            '<a target=\"_blank\" href=https://colab.research.google.com/notebooks/data_table.ipynb>data table notebook</a>'\n",
              "            + ' to learn more about interactive tables.';\n",
              "          element.innerHTML = '';\n",
              "          dataTable['output_type'] = 'display_data';\n",
              "          await google.colab.output.renderOutput(dataTable, element);\n",
              "          const docLink = document.createElement('div');\n",
              "          docLink.innerHTML = docLinkHtml;\n",
              "          element.appendChild(docLink);\n",
              "        }\n",
              "      </script>\n",
              "    </div>\n",
              "  </div>\n",
              "  "
            ]
          },
          "metadata": {},
          "execution_count": 11
        }
      ]
    },
    {
      "cell_type": "code",
      "source": [
        "df_train"
      ],
      "metadata": {
        "colab": {
          "base_uri": "https://localhost:8080/",
          "height": 424
        },
        "id": "4d6_K70XCBqg",
        "outputId": "6c8748d4-6dd7-4b2a-c908-6dc4180ebbab"
      },
      "execution_count": null,
      "outputs": [
        {
          "output_type": "execute_result",
          "data": {
            "text/plain": [
              "     provinsi  tahun  tingkat_kemiskinan  tingkat_pengangguran  rasio_gini  \\\n",
              "213        16      6            0.089373              0.664530    0.333333   \n",
              "244         4      7            0.446113              0.298077    0.256831   \n",
              "75         17      2            0.410439              0.230769    0.415301   \n",
              "179        16      5            0.090499              0.722222    0.344262   \n",
              "59         27      1            0.394668              0.175214    0.415301   \n",
              "..        ...    ...                 ...                   ...         ...   \n",
              "188        21      5            0.661284              0.167735    0.453552   \n",
              "71         24      2            0.187758              0.581197    0.491803   \n",
              "106         7      3            0.187383              0.361111    0.382514   \n",
              "270        23      7            0.686444              0.589744    0.546448   \n",
              "102         0      3            0.499812              0.731838    0.355191   \n",
              "\n",
              "          ipm  laju_ekonomi  \n",
              "213  0.780092      0.241835  \n",
              "244  0.610162      0.116122  \n",
              "75   0.424823      0.251944  \n",
              "179  0.753436      0.232504  \n",
              "59   0.403165      0.288491  \n",
              "..        ...           ...  \n",
              "188  0.318201      0.249093  \n",
              "71   0.586839      0.081389  \n",
              "106  0.536027      0.219285  \n",
              "270  0.347355      0.096941  \n",
              "102  0.551853      0.181441  \n",
              "\n",
              "[244 rows x 7 columns]"
            ],
            "text/html": [
              "\n",
              "  <div id=\"df-ba88bac0-4abf-4d71-8736-55bfd08ec8eb\">\n",
              "    <div class=\"colab-df-container\">\n",
              "      <div>\n",
              "<style scoped>\n",
              "    .dataframe tbody tr th:only-of-type {\n",
              "        vertical-align: middle;\n",
              "    }\n",
              "\n",
              "    .dataframe tbody tr th {\n",
              "        vertical-align: top;\n",
              "    }\n",
              "\n",
              "    .dataframe thead th {\n",
              "        text-align: right;\n",
              "    }\n",
              "</style>\n",
              "<table border=\"1\" class=\"dataframe\">\n",
              "  <thead>\n",
              "    <tr style=\"text-align: right;\">\n",
              "      <th></th>\n",
              "      <th>provinsi</th>\n",
              "      <th>tahun</th>\n",
              "      <th>tingkat_kemiskinan</th>\n",
              "      <th>tingkat_pengangguran</th>\n",
              "      <th>rasio_gini</th>\n",
              "      <th>ipm</th>\n",
              "      <th>laju_ekonomi</th>\n",
              "    </tr>\n",
              "  </thead>\n",
              "  <tbody>\n",
              "    <tr>\n",
              "      <th>213</th>\n",
              "      <td>16</td>\n",
              "      <td>6</td>\n",
              "      <td>0.089373</td>\n",
              "      <td>0.664530</td>\n",
              "      <td>0.333333</td>\n",
              "      <td>0.780092</td>\n",
              "      <td>0.241835</td>\n",
              "    </tr>\n",
              "    <tr>\n",
              "      <th>244</th>\n",
              "      <td>4</td>\n",
              "      <td>7</td>\n",
              "      <td>0.446113</td>\n",
              "      <td>0.298077</td>\n",
              "      <td>0.256831</td>\n",
              "      <td>0.610162</td>\n",
              "      <td>0.116122</td>\n",
              "    </tr>\n",
              "    <tr>\n",
              "      <th>75</th>\n",
              "      <td>17</td>\n",
              "      <td>2</td>\n",
              "      <td>0.410439</td>\n",
              "      <td>0.230769</td>\n",
              "      <td>0.415301</td>\n",
              "      <td>0.424823</td>\n",
              "      <td>0.251944</td>\n",
              "    </tr>\n",
              "    <tr>\n",
              "      <th>179</th>\n",
              "      <td>16</td>\n",
              "      <td>5</td>\n",
              "      <td>0.090499</td>\n",
              "      <td>0.722222</td>\n",
              "      <td>0.344262</td>\n",
              "      <td>0.753436</td>\n",
              "      <td>0.232504</td>\n",
              "    </tr>\n",
              "    <tr>\n",
              "      <th>59</th>\n",
              "      <td>27</td>\n",
              "      <td>1</td>\n",
              "      <td>0.394668</td>\n",
              "      <td>0.175214</td>\n",
              "      <td>0.415301</td>\n",
              "      <td>0.403165</td>\n",
              "      <td>0.288491</td>\n",
              "    </tr>\n",
              "    <tr>\n",
              "      <th>...</th>\n",
              "      <td>...</td>\n",
              "      <td>...</td>\n",
              "      <td>...</td>\n",
              "      <td>...</td>\n",
              "      <td>...</td>\n",
              "      <td>...</td>\n",
              "      <td>...</td>\n",
              "    </tr>\n",
              "    <tr>\n",
              "      <th>188</th>\n",
              "      <td>21</td>\n",
              "      <td>5</td>\n",
              "      <td>0.661284</td>\n",
              "      <td>0.167735</td>\n",
              "      <td>0.453552</td>\n",
              "      <td>0.318201</td>\n",
              "      <td>0.249093</td>\n",
              "    </tr>\n",
              "    <tr>\n",
              "      <th>71</th>\n",
              "      <td>24</td>\n",
              "      <td>2</td>\n",
              "      <td>0.187758</td>\n",
              "      <td>0.581197</td>\n",
              "      <td>0.491803</td>\n",
              "      <td>0.586839</td>\n",
              "      <td>0.081389</td>\n",
              "    </tr>\n",
              "    <tr>\n",
              "      <th>106</th>\n",
              "      <td>7</td>\n",
              "      <td>3</td>\n",
              "      <td>0.187383</td>\n",
              "      <td>0.361111</td>\n",
              "      <td>0.382514</td>\n",
              "      <td>0.536027</td>\n",
              "      <td>0.219285</td>\n",
              "    </tr>\n",
              "    <tr>\n",
              "      <th>270</th>\n",
              "      <td>23</td>\n",
              "      <td>7</td>\n",
              "      <td>0.686444</td>\n",
              "      <td>0.589744</td>\n",
              "      <td>0.546448</td>\n",
              "      <td>0.347355</td>\n",
              "      <td>0.096941</td>\n",
              "    </tr>\n",
              "    <tr>\n",
              "      <th>102</th>\n",
              "      <td>0</td>\n",
              "      <td>3</td>\n",
              "      <td>0.499812</td>\n",
              "      <td>0.731838</td>\n",
              "      <td>0.355191</td>\n",
              "      <td>0.551853</td>\n",
              "      <td>0.181441</td>\n",
              "    </tr>\n",
              "  </tbody>\n",
              "</table>\n",
              "<p>244 rows × 7 columns</p>\n",
              "</div>\n",
              "      <button class=\"colab-df-convert\" onclick=\"convertToInteractive('df-ba88bac0-4abf-4d71-8736-55bfd08ec8eb')\"\n",
              "              title=\"Convert this dataframe to an interactive table.\"\n",
              "              style=\"display:none;\">\n",
              "        \n",
              "  <svg xmlns=\"http://www.w3.org/2000/svg\" height=\"24px\"viewBox=\"0 0 24 24\"\n",
              "       width=\"24px\">\n",
              "    <path d=\"M0 0h24v24H0V0z\" fill=\"none\"/>\n",
              "    <path d=\"M18.56 5.44l.94 2.06.94-2.06 2.06-.94-2.06-.94-.94-2.06-.94 2.06-2.06.94zm-11 1L8.5 8.5l.94-2.06 2.06-.94-2.06-.94L8.5 2.5l-.94 2.06-2.06.94zm10 10l.94 2.06.94-2.06 2.06-.94-2.06-.94-.94-2.06-.94 2.06-2.06.94z\"/><path d=\"M17.41 7.96l-1.37-1.37c-.4-.4-.92-.59-1.43-.59-.52 0-1.04.2-1.43.59L10.3 9.45l-7.72 7.72c-.78.78-.78 2.05 0 2.83L4 21.41c.39.39.9.59 1.41.59.51 0 1.02-.2 1.41-.59l7.78-7.78 2.81-2.81c.8-.78.8-2.07 0-2.86zM5.41 20L4 18.59l7.72-7.72 1.47 1.35L5.41 20z\"/>\n",
              "  </svg>\n",
              "      </button>\n",
              "      \n",
              "  <style>\n",
              "    .colab-df-container {\n",
              "      display:flex;\n",
              "      flex-wrap:wrap;\n",
              "      gap: 12px;\n",
              "    }\n",
              "\n",
              "    .colab-df-convert {\n",
              "      background-color: #E8F0FE;\n",
              "      border: none;\n",
              "      border-radius: 50%;\n",
              "      cursor: pointer;\n",
              "      display: none;\n",
              "      fill: #1967D2;\n",
              "      height: 32px;\n",
              "      padding: 0 0 0 0;\n",
              "      width: 32px;\n",
              "    }\n",
              "\n",
              "    .colab-df-convert:hover {\n",
              "      background-color: #E2EBFA;\n",
              "      box-shadow: 0px 1px 2px rgba(60, 64, 67, 0.3), 0px 1px 3px 1px rgba(60, 64, 67, 0.15);\n",
              "      fill: #174EA6;\n",
              "    }\n",
              "\n",
              "    [theme=dark] .colab-df-convert {\n",
              "      background-color: #3B4455;\n",
              "      fill: #D2E3FC;\n",
              "    }\n",
              "\n",
              "    [theme=dark] .colab-df-convert:hover {\n",
              "      background-color: #434B5C;\n",
              "      box-shadow: 0px 1px 3px 1px rgba(0, 0, 0, 0.15);\n",
              "      filter: drop-shadow(0px 1px 2px rgba(0, 0, 0, 0.3));\n",
              "      fill: #FFFFFF;\n",
              "    }\n",
              "  </style>\n",
              "\n",
              "      <script>\n",
              "        const buttonEl =\n",
              "          document.querySelector('#df-ba88bac0-4abf-4d71-8736-55bfd08ec8eb button.colab-df-convert');\n",
              "        buttonEl.style.display =\n",
              "          google.colab.kernel.accessAllowed ? 'block' : 'none';\n",
              "\n",
              "        async function convertToInteractive(key) {\n",
              "          const element = document.querySelector('#df-ba88bac0-4abf-4d71-8736-55bfd08ec8eb');\n",
              "          const dataTable =\n",
              "            await google.colab.kernel.invokeFunction('convertToInteractive',\n",
              "                                                     [key], {});\n",
              "          if (!dataTable) return;\n",
              "\n",
              "          const docLinkHtml = 'Like what you see? Visit the ' +\n",
              "            '<a target=\"_blank\" href=https://colab.research.google.com/notebooks/data_table.ipynb>data table notebook</a>'\n",
              "            + ' to learn more about interactive tables.';\n",
              "          element.innerHTML = '';\n",
              "          dataTable['output_type'] = 'display_data';\n",
              "          await google.colab.output.renderOutput(dataTable, element);\n",
              "          const docLink = document.createElement('div');\n",
              "          docLink.innerHTML = docLinkHtml;\n",
              "          element.appendChild(docLink);\n",
              "        }\n",
              "      </script>\n",
              "    </div>\n",
              "  </div>\n",
              "  "
            ]
          },
          "metadata": {},
          "execution_count": 12
        }
      ]
    },
    {
      "cell_type": "code",
      "source": [
        "import matplotlib.pyplot as plt\n",
        "import seaborn as sns\n",
        "\n",
        "plt.figure(figsize = (30, 25))\n",
        "sns.heatmap(df_train.corr(), annot = True, cmap=\"YlGnBu\")\n",
        "plt.show()"
      ],
      "metadata": {
        "colab": {
          "base_uri": "https://localhost:8080/",
          "height": 1000
        },
        "id": "Xz7rzFFqCL95",
        "outputId": "0d75d350-d975-49a6-9d82-9a054d4239ee"
      },
      "execution_count": null,
      "outputs": [
        {
          "output_type": "display_data",
          "data": {
            "text/plain": [
              "<Figure size 2160x1800 with 2 Axes>"
            ],
            "image/png": "[encoded data removed]"
          },
          "metadata": {
            "needs_background": "light"
          }
        }
      ]
    },
    {
      "cell_type": "code",
      "source": [
        "y_train = df_train.pop('laju_ekonomi')\n",
        "X_train = df_train"
      ],
      "metadata": {
        "id": "_tLRCGQTCWrM"
      },
      "execution_count": null,
      "outputs": []
    },
    {
      "cell_type": "code",
      "source": [
        "from sklearn.feature_selection import RFE\n",
        "from sklearn.linear_model import LinearRegression\n",
        "import statsmodels.api as sm \n",
        "from statsmodels.stats.outliers_influence import variance_inflation_factor"
      ],
      "metadata": {
        "id": "Dgcz5pQXCarQ"
      },
      "execution_count": null,
      "outputs": []
    },
    {
      "cell_type": "code",
      "source": [
        "lm = LinearRegression()\n",
        "lm.fit(X_train,y_train)\n",
        "rfe = RFE(lm)\n",
        "rfe = rfe.fit(X_train, y_train)"
      ],
      "metadata": {
        "id": "SI_dvTIhCcH9"
      },
      "execution_count": null,
      "outputs": []
    },
    {
      "cell_type": "code",
      "source": [
        "list(zip(X_train.columns,rfe.support_,rfe.ranking_))"
      ],
      "metadata": {
        "colab": {
          "base_uri": "https://localhost:8080/"
        },
        "id": "P9TIdQQOChYf",
        "outputId": "29fe9339-e20b-4cc1-9e02-44ad2f791def"
      },
      "execution_count": null,
      "outputs": [
        {
          "output_type": "execute_result",
          "data": {
            "text/plain": [
              "[('provinsi', False, 4),\n",
              " ('tahun', False, 2),\n",
              " ('tingkat_kemiskinan', False, 3),\n",
              " ('tingkat_pengangguran', True, 1),\n",
              " ('rasio_gini', True, 1),\n",
              " ('ipm', True, 1)]"
            ]
          },
          "metadata": {},
          "execution_count": 17
        }
      ]
    },
    {
      "cell_type": "code",
      "source": [
        "X_train.columns[rfe.support_]"
      ],
      "metadata": {
        "colab": {
          "base_uri": "https://localhost:8080/"
        },
        "id": "o6ojVXNICoSy",
        "outputId": "d3bc65d7-2a67-4ea3-d6b2-bf9cc6b419ab"
      },
      "execution_count": null,
      "outputs": [
        {
          "output_type": "execute_result",
          "data": {
            "text/plain": [
              "Index(['tingkat_pengangguran', 'rasio_gini', 'ipm'], dtype='object')"
            ]
          },
          "metadata": {},
          "execution_count": 18
        }
      ]
    },
    {
      "cell_type": "code",
      "source": [
        "X_train_rfe = X_train[X_train.columns[rfe.support_]]\n",
        "X_train_rfe.head()"
      ],
      "metadata": {
        "colab": {
          "base_uri": "https://localhost:8080/",
          "height": 206
        },
        "id": "_o9a0xXaCtNG",
        "outputId": "f9ab2b80-9258-4648-a37d-f205086abaa3"
      },
      "execution_count": null,
      "outputs": [
        {
          "output_type": "execute_result",
          "data": {
            "text/plain": [
              "     tingkat_pengangguran  rasio_gini       ipm\n",
              "213              0.664530    0.333333  0.780092\n",
              "244              0.298077    0.256831  0.610162\n",
              "75               0.230769    0.415301  0.424823\n",
              "179              0.722222    0.344262  0.753436\n",
              "59               0.175214    0.415301  0.403165"
            ],
            "text/html": [
              "\n",
              "  <div id=\"df-2210b2cd-de05-4798-9978-37685ee7c70c\">\n",
              "    <div class=\"colab-df-container\">\n",
              "      <div>\n",
              "<style scoped>\n",
              "    .dataframe tbody tr th:only-of-type {\n",
              "        vertical-align: middle;\n",
              "    }\n",
              "\n",
              "    .dataframe tbody tr th {\n",
              "        vertical-align: top;\n",
              "    }\n",
              "\n",
              "    .dataframe thead th {\n",
              "        text-align: right;\n",
              "    }\n",
              "</style>\n",
              "<table border=\"1\" class=\"dataframe\">\n",
              "  <thead>\n",
              "    <tr style=\"text-align: right;\">\n",
              "      <th></th>\n",
              "      <th>tingkat_pengangguran</th>\n",
              "      <th>rasio_gini</th>\n",
              "      <th>ipm</th>\n",
              "    </tr>\n",
              "  </thead>\n",
              "  <tbody>\n",
              "    <tr>\n",
              "      <th>213</th>\n",
              "      <td>0.664530</td>\n",
              "      <td>0.333333</td>\n",
              "      <td>0.780092</td>\n",
              "    </tr>\n",
              "    <tr>\n",
              "      <th>244</th>\n",
              "      <td>0.298077</td>\n",
              "      <td>0.256831</td>\n",
              "      <td>0.610162</td>\n",
              "    </tr>\n",
              "    <tr>\n",
              "      <th>75</th>\n",
              "      <td>0.230769</td>\n",
              "      <td>0.415301</td>\n",
              "      <td>0.424823</td>\n",
              "    </tr>\n",
              "    <tr>\n",
              "      <th>179</th>\n",
              "      <td>0.722222</td>\n",
              "      <td>0.344262</td>\n",
              "      <td>0.753436</td>\n",
              "    </tr>\n",
              "    <tr>\n",
              "      <th>59</th>\n",
              "      <td>0.175214</td>\n",
              "      <td>0.415301</td>\n",
              "      <td>0.403165</td>\n",
              "    </tr>\n",
              "  </tbody>\n",
              "</table>\n",
              "</div>\n",
              "      <button class=\"colab-df-convert\" onclick=\"convertToInteractive('df-2210b2cd-de05-4798-9978-37685ee7c70c')\"\n",
              "              title=\"Convert this dataframe to an interactive table.\"\n",
              "              style=\"display:none;\">\n",
              "        \n",
              "  <svg xmlns=\"http://www.w3.org/2000/svg\" height=\"24px\"viewBox=\"0 0 24 24\"\n",
              "       width=\"24px\">\n",
              "    <path d=\"M0 0h24v24H0V0z\" fill=\"none\"/>\n",
              "    <path d=\"M18.56 5.44l.94 2.06.94-2.06 2.06-.94-2.06-.94-.94-2.06-.94 2.06-2.06.94zm-11 1L8.5 8.5l.94-2.06 2.06-.94-2.06-.94L8.5 2.5l-.94 2.06-2.06.94zm10 10l.94 2.06.94-2.06 2.06-.94-2.06-.94-.94-2.06-.94 2.06-2.06.94z\"/><path d=\"M17.41 7.96l-1.37-1.37c-.4-.4-.92-.59-1.43-.59-.52 0-1.04.2-1.43.59L10.3 9.45l-7.72 7.72c-.78.78-.78 2.05 0 2.83L4 21.41c.39.39.9.59 1.41.59.51 0 1.02-.2 1.41-.59l7.78-7.78 2.81-2.81c.8-.78.8-2.07 0-2.86zM5.41 20L4 18.59l7.72-7.72 1.47 1.35L5.41 20z\"/>\n",
              "  </svg>\n",
              "      </button>\n",
              "      \n",
              "  <style>\n",
              "    .colab-df-container {\n",
              "      display:flex;\n",
              "      flex-wrap:wrap;\n",
              "      gap: 12px;\n",
              "    }\n",
              "\n",
              "    .colab-df-convert {\n",
              "      background-color: #E8F0FE;\n",
              "      border: none;\n",
              "      border-radius: 50%;\n",
              "      cursor: pointer;\n",
              "      display: none;\n",
              "      fill: #1967D2;\n",
              "      height: 32px;\n",
              "      padding: 0 0 0 0;\n",
              "      width: 32px;\n",
              "    }\n",
              "\n",
              "    .colab-df-convert:hover {\n",
              "      background-color: #E2EBFA;\n",
              "      box-shadow: 0px 1px 2px rgba(60, 64, 67, 0.3), 0px 1px 3px 1px rgba(60, 64, 67, 0.15);\n",
              "      fill: #174EA6;\n",
              "    }\n",
              "\n",
              "    [theme=dark] .colab-df-convert {\n",
              "      background-color: #3B4455;\n",
              "      fill: #D2E3FC;\n",
              "    }\n",
              "\n",
              "    [theme=dark] .colab-df-convert:hover {\n",
              "      background-color: #434B5C;\n",
              "      box-shadow: 0px 1px 3px 1px rgba(0, 0, 0, 0.15);\n",
              "      filter: drop-shadow(0px 1px 2px rgba(0, 0, 0, 0.3));\n",
              "      fill: #FFFFFF;\n",
              "    }\n",
              "  </style>\n",
              "\n",
              "      <script>\n",
              "        const buttonEl =\n",
              "          document.querySelector('#df-2210b2cd-de05-4798-9978-37685ee7c70c button.colab-df-convert');\n",
              "        buttonEl.style.display =\n",
              "          google.colab.kernel.accessAllowed ? 'block' : 'none';\n",
              "\n",
              "        async function convertToInteractive(key) {\n",
              "          const element = document.querySelector('#df-2210b2cd-de05-4798-9978-37685ee7c70c');\n",
              "          const dataTable =\n",
              "            await google.colab.kernel.invokeFunction('convertToInteractive',\n",
              "                                                     [key], {});\n",
              "          if (!dataTable) return;\n",
              "\n",
              "          const docLinkHtml = 'Like what you see? Visit the ' +\n",
              "            '<a target=\"_blank\" href=https://colab.research.google.com/notebooks/data_table.ipynb>data table notebook</a>'\n",
              "            + ' to learn more about interactive tables.';\n",
              "          element.innerHTML = '';\n",
              "          dataTable['output_type'] = 'display_data';\n",
              "          await google.colab.output.renderOutput(dataTable, element);\n",
              "          const docLink = document.createElement('div');\n",
              "          docLink.innerHTML = docLinkHtml;\n",
              "          element.appendChild(docLink);\n",
              "        }\n",
              "      </script>\n",
              "    </div>\n",
              "  </div>\n",
              "  "
            ]
          },
          "metadata": {},
          "execution_count": 19
        }
      ]
    },
    {
      "cell_type": "code",
      "source": [
        "def build_model(X,y):\n",
        "    X = sm.add_constant(X) #Adding the constant\n",
        "    lm = sm.OLS(y,X).fit() # fitting the model\n",
        "    print(lm.summary()) # model summary\n",
        "    return X\n",
        "    \n",
        "def checkVIF(X):\n",
        "    vif = pd.DataFrame()\n",
        "    vif['Features'] = X.columns\n",
        "    vif['VIF'] = [variance_inflation_factor(X.values, i) for i in range(X.shape[1])]\n",
        "    vif['VIF'] = round(vif['VIF'], 2)\n",
        "    vif = vif.sort_values(by = \"VIF\", ascending = False)\n",
        "    return(vif)"
      ],
      "metadata": {
        "id": "EiAZRZdpCyz8"
      },
      "execution_count": null,
      "outputs": []
    },
    {
      "cell_type": "code",
      "source": [
        "X_train_new = build_model(X_train_rfe,y_train)"
      ],
      "metadata": {
        "colab": {
          "base_uri": "https://localhost:8080/"
        },
        "id": "ArnSoCoCC25z",
        "outputId": "7c145d63-8ab0-4c3d-fc91-424c72f32f8f"
      },
      "execution_count": null,
      "outputs": [
        {
          "output_type": "stream",
          "name": "stdout",
          "text": [
            "                            OLS Regression Results                            \n",
            "==============================================================================\n",
            "Dep. Variable:           laju_ekonomi   R-squared:                       0.119\n",
            "Model:                            OLS   Adj. R-squared:                  0.108\n",
            "Method:                 Least Squares   F-statistic:                     10.77\n",
            "Date:                Thu, 29 Dec 2022   Prob (F-statistic):           1.15e-06\n",
            "Time:                        09:18:44   Log-Likelihood:                 246.39\n",
            "No. Observations:                 244   AIC:                            -484.8\n",
            "Df Residuals:                     240   BIC:                            -470.8\n",
            "Df Model:                           3                                         \n",
            "Covariance Type:            nonrobust                                         \n",
            "========================================================================================\n",
            "                           coef    std err          t      P>|t|      [0.025      0.975]\n",
            "----------------------------------------------------------------------------------------\n",
            "const                    0.2875      0.024     12.169      0.000       0.241       0.334\n",
            "tingkat_pengangguran    -0.0849      0.028     -3.010      0.003      -0.140      -0.029\n",
            "rasio_gini               0.0732      0.027      2.722      0.007       0.020       0.126\n",
            "ipm                     -0.0938      0.036     -2.591      0.010      -0.165      -0.022\n",
            "==============================================================================\n",
            "Omnibus:                      168.422   Durbin-Watson:                   1.969\n",
            "Prob(Omnibus):                  0.000   Jarque-Bera (JB):             4579.328\n",
            "Skew:                           2.241   Prob(JB):                         0.00\n",
            "Kurtosis:                      23.745   Cond. No.                         9.27\n",
            "==============================================================================\n",
            "\n",
            "Notes:\n",
            "[1] Standard Errors assume that the covariance matrix of the errors is correctly specified.\n"
          ]
        },
        {
          "output_type": "stream",
          "name": "stderr",
          "text": [
            "/usr/local/lib/python3.8/dist-packages/statsmodels/tsa/tsatools.py:142: FutureWarning: In a future version of pandas all arguments of concat except for the argument 'objs' will be keyword-only\n",
            "  x = pd.concat(x[::order], 1)\n"
          ]
        }
      ]
    },
    {
      "cell_type": "code",
      "source": [
        "checkVIF(X_train_new)"
      ],
      "metadata": {
        "colab": {
          "base_uri": "https://localhost:8080/",
          "height": 175
        },
        "id": "9XjN8vcJDIyg",
        "outputId": "192b5334-b04d-452e-a39e-8c7fc4608c51"
      },
      "execution_count": null,
      "outputs": [
        {
          "output_type": "execute_result",
          "data": {
            "text/plain": [
              "               Features    VIF\n",
              "0                 const  17.25\n",
              "1  tingkat_pengangguran   1.13\n",
              "3                   ipm   1.11\n",
              "2            rasio_gini   1.01"
            ],
            "text/html": [
              "\n",
              "  <div id=\"df-42d6cb7d-3416-416e-a631-899a1618f3ae\">\n",
              "    <div class=\"colab-df-container\">\n",
              "      <div>\n",
              "<style scoped>\n",
              "    .dataframe tbody tr th:only-of-type {\n",
              "        vertical-align: middle;\n",
              "    }\n",
              "\n",
              "    .dataframe tbody tr th {\n",
              "        vertical-align: top;\n",
              "    }\n",
              "\n",
              "    .dataframe thead th {\n",
              "        text-align: right;\n",
              "    }\n",
              "</style>\n",
              "<table border=\"1\" class=\"dataframe\">\n",
              "  <thead>\n",
              "    <tr style=\"text-align: right;\">\n",
              "      <th></th>\n",
              "      <th>Features</th>\n",
              "      <th>VIF</th>\n",
              "    </tr>\n",
              "  </thead>\n",
              "  <tbody>\n",
              "    <tr>\n",
              "      <th>0</th>\n",
              "      <td>const</td>\n",
              "      <td>17.25</td>\n",
              "    </tr>\n",
              "    <tr>\n",
              "      <th>1</th>\n",
              "      <td>tingkat_pengangguran</td>\n",
              "      <td>1.13</td>\n",
              "    </tr>\n",
              "    <tr>\n",
              "      <th>3</th>\n",
              "      <td>ipm</td>\n",
              "      <td>1.11</td>\n",
              "    </tr>\n",
              "    <tr>\n",
              "      <th>2</th>\n",
              "      <td>rasio_gini</td>\n",
              "      <td>1.01</td>\n",
              "    </tr>\n",
              "  </tbody>\n",
              "</table>\n",
              "</div>\n",
              "      <button class=\"colab-df-convert\" onclick=\"convertToInteractive('df-42d6cb7d-3416-416e-a631-899a1618f3ae')\"\n",
              "              title=\"Convert this dataframe to an interactive table.\"\n",
              "              style=\"display:none;\">\n",
              "        \n",
              "  <svg xmlns=\"http://www.w3.org/2000/svg\" height=\"24px\"viewBox=\"0 0 24 24\"\n",
              "       width=\"24px\">\n",
              "    <path d=\"M0 0h24v24H0V0z\" fill=\"none\"/>\n",
              "    <path d=\"M18.56 5.44l.94 2.06.94-2.06 2.06-.94-2.06-.94-.94-2.06-.94 2.06-2.06.94zm-11 1L8.5 8.5l.94-2.06 2.06-.94-2.06-.94L8.5 2.5l-.94 2.06-2.06.94zm10 10l.94 2.06.94-2.06 2.06-.94-2.06-.94-.94-2.06-.94 2.06-2.06.94z\"/><path d=\"M17.41 7.96l-1.37-1.37c-.4-.4-.92-.59-1.43-.59-.52 0-1.04.2-1.43.59L10.3 9.45l-7.72 7.72c-.78.78-.78 2.05 0 2.83L4 21.41c.39.39.9.59 1.41.59.51 0 1.02-.2 1.41-.59l7.78-7.78 2.81-2.81c.8-.78.8-2.07 0-2.86zM5.41 20L4 18.59l7.72-7.72 1.47 1.35L5.41 20z\"/>\n",
              "  </svg>\n",
              "      </button>\n",
              "      \n",
              "  <style>\n",
              "    .colab-df-container {\n",
              "      display:flex;\n",
              "      flex-wrap:wrap;\n",
              "      gap: 12px;\n",
              "    }\n",
              "\n",
              "    .colab-df-convert {\n",
              "      background-color: #E8F0FE;\n",
              "      border: none;\n",
              "      border-radius: 50%;\n",
              "      cursor: pointer;\n",
              "      display: none;\n",
              "      fill: #1967D2;\n",
              "      height: 32px;\n",
              "      padding: 0 0 0 0;\n",
              "      width: 32px;\n",
              "    }\n",
              "\n",
              "    .colab-df-convert:hover {\n",
              "      background-color: #E2EBFA;\n",
              "      box-shadow: 0px 1px 2px rgba(60, 64, 67, 0.3), 0px 1px 3px 1px rgba(60, 64, 67, 0.15);\n",
              "      fill: #174EA6;\n",
              "    }\n",
              "\n",
              "    [theme=dark] .colab-df-convert {\n",
              "      background-color: #3B4455;\n",
              "      fill: #D2E3FC;\n",
              "    }\n",
              "\n",
              "    [theme=dark] .colab-df-convert:hover {\n",
              "      background-color: #434B5C;\n",
              "      box-shadow: 0px 1px 3px 1px rgba(0, 0, 0, 0.15);\n",
              "      filter: drop-shadow(0px 1px 2px rgba(0, 0, 0, 0.3));\n",
              "      fill: #FFFFFF;\n",
              "    }\n",
              "  </style>\n",
              "\n",
              "      <script>\n",
              "        const buttonEl =\n",
              "          document.querySelector('#df-42d6cb7d-3416-416e-a631-899a1618f3ae button.colab-df-convert');\n",
              "        buttonEl.style.display =\n",
              "          google.colab.kernel.accessAllowed ? 'block' : 'none';\n",
              "\n",
              "        async function convertToInteractive(key) {\n",
              "          const element = document.querySelector('#df-42d6cb7d-3416-416e-a631-899a1618f3ae');\n",
              "          const dataTable =\n",
              "            await google.colab.kernel.invokeFunction('convertToInteractive',\n",
              "                                                     [key], {});\n",
              "          if (!dataTable) return;\n",
              "\n",
              "          const docLinkHtml = 'Like what you see? Visit the ' +\n",
              "            '<a target=\"_blank\" href=https://colab.research.google.com/notebooks/data_table.ipynb>data table notebook</a>'\n",
              "            + ' to learn more about interactive tables.';\n",
              "          element.innerHTML = '';\n",
              "          dataTable['output_type'] = 'display_data';\n",
              "          await google.colab.output.renderOutput(dataTable, element);\n",
              "          const docLink = document.createElement('div');\n",
              "          docLink.innerHTML = docLinkHtml;\n",
              "          element.appendChild(docLink);\n",
              "        }\n",
              "      </script>\n",
              "    </div>\n",
              "  </div>\n",
              "  "
            ]
          },
          "metadata": {},
          "execution_count": 22
        }
      ]
    },
    {
      "cell_type": "code",
      "source": [
        "lm = sm.OLS(y_train,X_train_new).fit()\n",
        "y_train_price = lm.predict(X_train_new)\n",
        "# Plot the histogram of the error terms\n",
        "fig = plt.figure()\n",
        "sns.distplot((y_train - y_train_price), bins = 20)\n",
        "fig.suptitle('Error Terms', fontsize = 20)                  # Plot heading \n",
        "plt.xlabel('Errors', fontsize = 18)   "
      ],
      "metadata": {
        "colab": {
          "base_uri": "https://localhost:8080/",
          "height": 388
        },
        "id": "Vgc8jhDwDNFO",
        "outputId": "e403f1e5-a2cf-45b2-eb35-d3a08898f608"
      },
      "execution_count": null,
      "outputs": [
        {
          "output_type": "stream",
          "name": "stderr",
          "text": [
            "/usr/local/lib/python3.8/dist-packages/seaborn/distributions.py:2619: FutureWarning: `distplot` is a deprecated function and will be removed in a future version. Please adapt your code to use either `displot` (a figure-level function with similar flexibility) or `histplot` (an axes-level function for histograms).\n",
            "  warnings.warn(msg, FutureWarning)\n"
          ]
        },
        {
          "output_type": "execute_result",
          "data": {
            "text/plain": [
              "Text(0.5, 0, 'Errors')"
            ]
          },
          "metadata": {},
          "execution_count": 23
        },
        {
          "output_type": "display_data",
          "data": {
            "text/plain": [
              "<Figure size 432x288 with 1 Axes>"
            ],
            "image/png": "[encoded data removed]"
          },
          "metadata": {
            "needs_background": "light"
          }
        }
      ]
    },
    {
      "cell_type": "code",
      "source": [
        "num_vars = ['tingkat_kemiskinan','tingkat_pengangguran'\t,'rasio_gini', 'ipm', 'laju_ekonomi']\n",
        "df_test[num_vars] = scaler.fit_transform(df_test[num_vars])"
      ],
      "metadata": {
        "id": "_AdBqdZ9FPpG"
      },
      "execution_count": null,
      "outputs": []
    },
    {
      "cell_type": "code",
      "source": [
        "y_test = df_test.pop('laju_ekonomi')\n",
        "X_test = df_test"
      ],
      "metadata": {
        "id": "H6K6SszTFWnI"
      },
      "execution_count": null,
      "outputs": []
    },
    {
      "cell_type": "code",
      "source": [
        "X_train_new = X_train_new.drop('const',axis=1)\n",
        "# Creating X_test_new dataframe by dropping variables from X_test\n",
        "X_test_new = X_test[X_train_new.columns]\n",
        "\n",
        "# Adding a constant variable \n",
        "X_test_new = sm.add_constant(X_test_new)"
      ],
      "metadata": {
        "colab": {
          "base_uri": "https://localhost:8080/"
        },
        "id": "ti1IFxsxFcMw",
        "outputId": "0455626e-d1b4-4cea-8c7a-fc4884a7d0a9"
      },
      "execution_count": null,
      "outputs": [
        {
          "output_type": "stream",
          "name": "stderr",
          "text": [
            "/usr/local/lib/python3.8/dist-packages/statsmodels/tsa/tsatools.py:142: FutureWarning: In a future version of pandas all arguments of concat except for the argument 'objs' will be keyword-only\n",
            "  x = pd.concat(x[::order], 1)\n"
          ]
        }
      ]
    },
    {
      "cell_type": "code",
      "source": [
        "y_pred = lm.predict(X_test_new)"
      ],
      "metadata": {
        "id": "9FGutK_jFgyF"
      },
      "execution_count": null,
      "outputs": []
    },
    {
      "cell_type": "code",
      "source": [
        "from sklearn.model_selection import train_test_split\n",
        "from sklearn.linear_model import LinearRegression\n",
        "from sklearn import metrics \n",
        "import pandas as pd\n",
        "Prov = str(input(\"Provinsi : \"))\n",
        "Tahun = input(\"Tahun : \")\n",
        "\n",
        "\n",
        "data = pd.read_csv(\"/content/drive/MyDrive/data_penelitian_kel_7.csv\")\n",
        "\n",
        "#tp\n",
        "df = data[data.provinsi == Prov]\n",
        "tp = df[[\"tahun\",\"tingkat_pengangguran\"]]\n",
        "x1 = tp[\"tahun\"].values.reshape(-1,1)\n",
        "y1 = tp[\"tingkat_pengangguran\"].values.reshape(-1,1)\n",
        "x_train1, x_test1, y_train1, y_test1 = train_test_split(x1,y1, test_size = 0.75, random_state = 0)\n",
        "regressor1 = LinearRegression()\n",
        "regressor1.fit(x_train1, y_train1)\n",
        "y_pred1 = regressor1.predict(x_test1)\n",
        "hasil_prediksi1=regressor1.predict([[Tahun]]);\n",
        "\n",
        "#rg\n",
        "rg=df[[\"tahun\",\"rasio_gini\"]]\n",
        "rg\n",
        "x2 = rg[\"tahun\"].values.reshape(-1,1)\n",
        "y2 = rg[\"rasio_gini\"].values.reshape(-1,1)\n",
        "x_train2, x_test2, y_train2, y_test2 = train_test_split(x2,y2, test_size = 0.75, random_state = 0)\n",
        "regressor2 = LinearRegression()\n",
        "regressor2.fit(x_train2, y_train2)\n",
        "y_pred2 = regressor2.predict(x_test2)\n",
        "hasil_prediksi2=regressor2.predict([[Tahun]]);\n",
        "\n",
        "\n",
        "#ipm\n",
        "ipm=df[[\"tahun\",\"ipm\"]]\n",
        "x3 = ipm[\"tahun\"].values.reshape(-1,1)\n",
        "y3 = ipm[\"ipm\"].values.reshape(-1,1)\n",
        "x_train3, x_test3, y_train3, y_test3 = train_test_split(x3,y3, test_size = 0.75, random_state = 0)\n",
        "regressor3 = LinearRegression()\n",
        "regressor3.fit(x_train3, y_train3)\n",
        "y_pred3 = regressor3.predict(x_test3)\n",
        "hasil_prediksi3=regressor3.predict([[Tahun]]);\n",
        "\n",
        "\n",
        "print(\"Nilai Prediksi pada Tahun\",Tahun,\"di Provinsi\",Prov,\"adalah :\")\n",
        "print(\"Tingkat Pengangguran : \",hasil_prediksi1)\n",
        "print(\"Rasio Gini : \",hasil_prediksi2)\n",
        "print(\"Indeks Pembangunan Manusia : \",hasil_prediksi3)\n",
        "print(\"\\n\")\n",
        "\n",
        "koef = 0.2875\n",
        "koef1 = -0.0849\n",
        "koef2 = 0.0732\n",
        "koef3 = -0.0938\n",
        "x1 = float(hasil_prediksi1)\n",
        "x2 = float(hasil_prediksi2)\n",
        "x3 = float(hasil_prediksi3)\n",
        "\n",
        "prediksi_laju = koef + (koef1 * x1) + (koef2 * x2) + (koef3 * x3)\n",
        "\n",
        "print(\"Nilai Prediksi Laju Ekonomi pada Tahun\",Tahun,\"di Provinsi\",Prov,\"adalah :\", prediksi_laju)\n",
        "print(\"\\n\\n\")"
      ],
      "metadata": {
        "colab": {
          "base_uri": "https://localhost:8080/"
        },
        "id": "3uCMVkqSQLPZ",
        "outputId": "703c3538-646e-40b6-a82c-919e2c2e6b7a"
      },
      "execution_count": null,
      "outputs": [
        {
          "output_type": "stream",
          "name": "stdout",
          "text": [
            "Provinsi : Jawa Barat\n",
            "Tahun : 2023\n",
            "Nilai Prediksi pada Tahun 2023 di Provinsi Jawa Barat adalah :\n",
            "Tingkat Pengangguran :  [[7.58]]\n",
            "Rasio Gini :  [[0.404]]\n",
            "Indeks Pembangunan Manusia :  [[74.35]]\n",
            "\n",
            "\n",
            "Nilai Prediksi Laju Ekonomi pada Tahun 2023 di Provinsi Jawa Barat adalah : -7.3004992000000115\n",
            "\n",
            "\n",
            "\n"
          ]
        },
        {
          "output_type": "stream",
          "name": "stderr",
          "text": [
            "/usr/local/lib/python3.8/dist-packages/sklearn/base.py:566: FutureWarning: Arrays of bytes/strings is being converted to decimal numbers if dtype='numeric'. This behavior is deprecated in 0.24 and will be removed in 1.1 (renaming of 0.26). Please convert your data to numeric values explicitly instead.\n",
            "  X = check_array(X, **check_params)\n",
            "/usr/local/lib/python3.8/dist-packages/sklearn/base.py:566: FutureWarning: Arrays of bytes/strings is being converted to decimal numbers if dtype='numeric'. This behavior is deprecated in 0.24 and will be removed in 1.1 (renaming of 0.26). Please convert your data to numeric values explicitly instead.\n",
            "  X = check_array(X, **check_params)\n",
            "/usr/local/lib/python3.8/dist-packages/sklearn/base.py:566: FutureWarning: Arrays of bytes/strings is being converted to decimal numbers if dtype='numeric'. This behavior is deprecated in 0.24 and will be removed in 1.1 (renaming of 0.26). Please convert your data to numeric values explicitly instead.\n",
            "  X = check_array(X, **check_params)\n"
          ]
        }
      ]
    },
    {
      "cell_type": "markdown",
      "source": [
        "---\n",
        "\n",
        "<h5><b>Regresi Linear Sederhana </b></h5>\n",
        "\n",
        "---"
      ],
      "metadata": {
        "id": "DFFA7Ko4jboo"
      }
    },
    {
      "cell_type": "code",
      "source": [
        "#le\n",
        "tp = df[[\"tahun\",\"laju_ekonomi\"]]\n",
        "x5 = tp[\"tahun\"].values.reshape(-1,1)\n",
        "y5 = tp[\"laju_ekonomi\"].values.reshape(-1,1)\n",
        "x_train5, x_test5, y_train5, y_test5 = train_test_split(x5,y5, test_size = 0.75, random_state = 0)\n",
        "regressor5 = LinearRegression()\n",
        "regressor5.fit(x_train5, y_train5)\n",
        "y_pred5 = regressor5.predict(x_test5)\n",
        "hasil_prediksi5=regressor5.predict([[Tahun]]);\n",
        "\n",
        "print(\"Nilai Prediksi Laju Pertumbuhan Ekonomi pada Tahun\",Tahun,\"di Provinsi\",Prov,\"adalah :\",hasil_prediksi5)\n",
        "print(\"\\n\\n\")"
      ],
      "metadata": {
        "colab": {
          "base_uri": "https://localhost:8080/"
        },
        "id": "HQN0Cyv4Tqg2",
        "outputId": "afc40a3d-232e-4b5c-a579-a9814a59f040"
      },
      "execution_count": null,
      "outputs": [
        {
          "output_type": "stream",
          "name": "stdout",
          "text": [
            "Nilai Prediksi Laju Pertumbuhan Ekonomi pada Tahun 2023 di Provinsi Jawa Barat adalah : [[4.41]]\n",
            "\n",
            "\n",
            "\n"
          ]
        },
        {
          "output_type": "stream",
          "name": "stderr",
          "text": [
            "/usr/local/lib/python3.8/dist-packages/sklearn/base.py:566: FutureWarning: Arrays of bytes/strings is being converted to decimal numbers if dtype='numeric'. This behavior is deprecated in 0.24 and will be removed in 1.1 (renaming of 0.26). Please convert your data to numeric values explicitly instead.\n",
            "  X = check_array(X, **check_params)\n"
          ]
        }
      ]
    },
    {
      "cell_type": "markdown",
      "source": [
        "---\n",
        "\n",
        "<h2><b>Evaluasi</b></h2>\n",
        "\n",
        "---\n",
        "\n"
      ],
      "metadata": {
        "id": "QFvJGtMJHSh7"
      }
    },
    {
      "cell_type": "markdown",
      "source": [
        "\n",
        "<h5><b>Regresi Linear Berganda </b></h5>\n",
        "\n",
        "---"
      ],
      "metadata": {
        "id": "UdXKuSwxjfLI"
      }
    },
    {
      "cell_type": "code",
      "source": [
        "print(lm.summary())"
      ],
      "metadata": {
        "colab": {
          "base_uri": "https://localhost:8080/"
        },
        "id": "rqzl1m7uFnIX",
        "outputId": "83c2ada7-25e9-43c6-da98-7730ed144f56"
      },
      "execution_count": null,
      "outputs": [
        {
          "output_type": "stream",
          "name": "stdout",
          "text": [
            "                            OLS Regression Results                            \n",
            "==============================================================================\n",
            "Dep. Variable:           laju_ekonomi   R-squared:                       0.119\n",
            "Model:                            OLS   Adj. R-squared:                  0.108\n",
            "Method:                 Least Squares   F-statistic:                     10.77\n",
            "Date:                Thu, 29 Dec 2022   Prob (F-statistic):           1.15e-06\n",
            "Time:                        09:19:25   Log-Likelihood:                 246.39\n",
            "No. Observations:                 244   AIC:                            -484.8\n",
            "Df Residuals:                     240   BIC:                            -470.8\n",
            "Df Model:                           3                                         \n",
            "Covariance Type:            nonrobust                                         \n",
            "========================================================================================\n",
            "                           coef    std err          t      P>|t|      [0.025      0.975]\n",
            "----------------------------------------------------------------------------------------\n",
            "const                    0.2875      0.024     12.169      0.000       0.241       0.334\n",
            "tingkat_pengangguran    -0.0849      0.028     -3.010      0.003      -0.140      -0.029\n",
            "rasio_gini               0.0732      0.027      2.722      0.007       0.020       0.126\n",
            "ipm                     -0.0938      0.036     -2.591      0.010      -0.165      -0.022\n",
            "==============================================================================\n",
            "Omnibus:                      168.422   Durbin-Watson:                   1.969\n",
            "Prob(Omnibus):                  0.000   Jarque-Bera (JB):             4579.328\n",
            "Skew:                           2.241   Prob(JB):                         0.00\n",
            "Kurtosis:                      23.745   Cond. No.                         9.27\n",
            "==============================================================================\n",
            "\n",
            "Notes:\n",
            "[1] Standard Errors assume that the covariance matrix of the errors is correctly specified.\n"
          ]
        }
      ]
    },
    {
      "cell_type": "markdown",
      "source": [
        "Dari hasil regresi di atas, didapatkan persamaan regresi sebagai berikut:\n",
        "\n",
        "y = 0.2875 + (-0.0849) * (nilai_TPT) + (0.0732) * (nilai_RG) + (-0.0938) * (nilai_IPM)"
      ],
      "metadata": {
        "id": "7a_SnkerPLEG"
      }
    },
    {
      "cell_type": "markdown",
      "source": [
        "Dapat dikatakan bahwa proses pemodelan dan prediksi yang dilakukan, masih jauh dari kata sempurna. Dikarenakan nilai akurasi hanya mencapai 11.9%. Kekurangan ini dapat dipengaruhi oleh beberapa penyebab seperti penggabungan data keseluruhan provinsi pada dataset mengakibatkan pelatihan dan pengujian tidak berfokus kepada masing-masing provinsi, tetapi kepada semuanya. Kurangnya variabel ekonomi atau lainnya dari negara Indonesia yang berkemungkinan dapat mempengaruhi nilai regresi. Kemungkinan faktor berikutnya adalah kurangnya metode atau proses pengolahan pada tahap pemodelan untuk menyempurnakan data, ataupun terdapat bagian yang tidak seharusnya dilibatkan pada saat pemodelan. Adapun faktor terakhir, yaitu periode waktu yang digunakan terlalu sedikit untuk dilakukan prediksi, yaitu hanya 9 tahun."
      ],
      "metadata": {
        "id": "_1Osuul0O_vv"
      }
    },
    {
      "cell_type": "markdown",
      "source": [
        "---\n",
        "\n",
        "<h5><b>Regresi Linear Sederhana </b></h5>\n",
        "\n",
        "---"
      ],
      "metadata": {
        "id": "fdQBYXadjiJy"
      }
    },
    {
      "cell_type": "code",
      "source": [
        "import numpy as np\n",
        "\n",
        "print(\"PROVINSI : \", Prov)\n",
        "print(\"---------------------------------------------\")\n",
        "\n",
        "print(\"Akurasi Tingkat Pengangguran : \")\n",
        "print(\"Mean Absolute Error: \", metrics.mean_absolute_error(y_test1, y_pred1))\n",
        "print(\"Mean Squared Error: \", metrics.mean_squared_error(y_test1, y_pred1))\n",
        "print(\"Root Mean Squared Error: \", np.sqrt(metrics.mean_squared_error(y_test1, y_pred1)))\n",
        "print(\"R2 Score: \", metrics.r2_score(y_test1, y_pred1))\n",
        "print(\"---------------------------------------------\")\n",
        "\n",
        "print(\"Akurasi Rasio Gini : \")\n",
        "print(\"Mean Absolute Error: \", metrics.mean_absolute_error(y_test2, y_pred2))\n",
        "print(\"Mean Squared Error: \", metrics.mean_squared_error(y_test2, y_pred2))\n",
        "print(\"Root Mean Squared Error: \", np.sqrt(metrics.mean_squared_error(y_test2, y_pred2)))\n",
        "print(\"R2 Score: \", metrics.r2_score(y_test2, y_pred2))\n",
        "print(\"---------------------------------------------\")\n",
        "\n",
        "print(\"Akurasi Indeks Pembangunan Manusia : \")\n",
        "print(\"Mean Absolute Error: \", metrics.mean_absolute_error(y_test3, y_pred3))\n",
        "print(\"Mean Squared Error: \", metrics.mean_squared_error(y_test3, y_pred3))\n",
        "print(\"Root Mean Squared Error: \", np.sqrt(metrics.mean_squared_error(y_test3, y_pred3)))\n",
        "print(\"R2 Score: \", metrics.r2_score(y_test3, y_pred3))\n",
        "print(\"---------------------------------------------\")\n",
        "\n",
        "print(\"Akurasi Laju Pertumbuhan Ekonomi : \")\n",
        "print(\"Mean Absolute Error: \", metrics.mean_absolute_error(y_test5, y_pred5))\n",
        "print(\"Mean Squared Error: \", metrics.mean_squared_error(y_test5, y_pred5))\n",
        "print(\"Root Mean Squared Error: \", np.sqrt(metrics.mean_squared_error(y_test5, y_pred5)))\n",
        "print(\"R2 Score: \", metrics.r2_score(y_test5, y_pred5))"
      ],
      "metadata": {
        "colab": {
          "base_uri": "https://localhost:8080/"
        },
        "id": "noNt1tr_Zqqd",
        "outputId": "f7a7f723-dcf8-4ec3-d1d2-d295801b5cd2"
      },
      "execution_count": null,
      "outputs": [
        {
          "output_type": "stream",
          "name": "stdout",
          "text": [
            "PROVINSI :  Jawa Barat\n",
            "---------------------------------------------\n",
            "Akurasi Tingkat Pengangguran : \n",
            "Mean Absolute Error:  0.7214285714285721\n",
            "Mean Squared Error:  1.4577000000000349\n",
            "Root Mean Squared Error:  1.2073524754602671\n",
            "R2 Score:  -1.2175642195853946\n",
            "---------------------------------------------\n",
            "Akurasi Rasio Gini : \n",
            "Mean Absolute Error:  0.008400000000000003\n",
            "Mean Squared Error:  0.0001042514285714285\n",
            "Root Mean Squared Error:  0.010210358885535243\n",
            "R2 Score:  -0.02207282913165365\n",
            "---------------------------------------------\n",
            "Akurasi Indeks Pembangunan Manusia : \n",
            "Mean Absolute Error:  0.19285714285718875\n",
            "Mean Squared Error:  0.09530000000004457\n",
            "Root Mean Squared Error:  0.3087069808087348\n",
            "R2 Score:  0.9451582292603499\n",
            "---------------------------------------------\n",
            "Akurasi Laju Pertumbuhan Ekonomi : \n",
            "Mean Absolute Error:  1.8702857142856861\n",
            "Mean Squared Error:  9.3150708571428\n",
            "Root Mean Squared Error:  3.052060100512898\n",
            "R2 Score:  -0.2817136223666492\n"
          ]
        }
      ]
    }
  ]
}