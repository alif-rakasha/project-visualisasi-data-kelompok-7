{
  "nbformat": 4,
  "nbformat_minor": 0,
  "metadata": {
    "colab": {
      "provenance": [],
      "collapsed_sections": [],
      "include_colab_link": true
    },
    "kernelspec": {
      "name": "python3",
      "display_name": "Python 3"
    },
    "language_info": {
      "name": "python"
    }
  },
  "cells": [
    {
      "cell_type": "markdown",
      "metadata": {
        "id": "view-in-github",
        "colab_type": "text"
      },
      "source": [
        "<a href=\"https://colab.research.google.com/github/alif-rakasha/project-visualisasi-data-kelompok-7/blob/main/Project_Visualisasi_Data_Kelompok_7.ipynb\" target=\"_parent\"><img src=\"https://colab.research.google.com/assets/colab-badge.svg\" alt=\"Open In Colab\"/></a>"
      ]
    },
    {
      "cell_type": "markdown",
      "source": [
        "\n",
        "---\n",
        "<h1><b>SUSTAINABLE DEVELOPMENT GOALS: DECENT WORK AND ECONOMIC GROWTH </b></h1>\n",
        "\n",
        "---\n",
        "\n",
        "\n",
        " Kelompok 7:\n",
        "1. Rifqi Fadhlur Rahman (1187050089)\n",
        "2. Alif Rakasha Pratama Putra (1197050012)\n",
        "3. Harry Akbar Fauzan (1197050047)\n",
        "4. Muhammad Rizkon Fithri Wikarta (1197050090)\n",
        "5. Yunita Minarni (1197050133)\n",
        "\n"
      ],
      "metadata": {
        "id": "68SpZOaSM87u"
      }
    },
    {
      "cell_type": "markdown",
      "source": [
        "---\n",
        "\n",
        "<h2><b>Topik Penelitian</b></h2>\n",
        "\n",
        "---\n",
        "\n",
        "Penelitian yang akan dilakukan ini berkaitan dengan rencana global \"*Sustainable Development Goals*\" yang berfokus pada tujuan ke-8 yaitu \"*Decent Work and Economic Growth*\".\n",
        "\n",
        "Pada penelitian ini akan dilakukan analisis, pengolahan, dan pemodelan data, mengenai perkembangan ekonomi, laju ekonomi, dan angka pengangguran di seluruh provinsi Indonesia.\n"
      ],
      "metadata": {
        "id": "R7N1rto6Tjko"
      }
    },
    {
      "cell_type": "markdown",
      "source": [
        "---\n",
        "\n",
        "<h2><b>Business Understanding</b></h2>\n",
        "\n",
        "---\n",
        "\n",
        "* Latar Belakang Masalah\n",
        "\n",
        "Ekonomi merupakan salah satu komponen/sektor terpenting pada suatu negara, bahkan dunia. Dengan pembangunan ekonomi, suatu negara dapat mendapatkan ketersediaan kebutuhan hidup seperti kebutuhan pokok, pangan, sandang, papan, pendidikan, kesehatan, dan lainnya.\n",
        "\n",
        "Di Indonesia, ekonomi banyak memberikan dampak bagi masyarakat. Terutama ketika terjadinya pandemi covid-19 yang menyebabkan maraknya perubahan pada ekonomi Indonesia, seperti fluktuasi terhadap harga bahan pokok, masyarakat yang kehilangan pekerjaan karena perusahaan yang terdampak pandemi, pekerja yang terjangkit tidak dapat bekerja dan memerlukan biaya perawatan.\n",
        "\n",
        "Dikutip dari Badan Pusat Statistik, pada bulan Agustus tahun 2022, Indonesia memiliki persentase tingkat pengangguran terbuka sebesar 5,86%. Angka tersebut relatif lebih besar bila dibandingkan dengan negara lain di Asia Tenggara. Hal ini mungkin disebabkan karena masih kurangnya lowongan kerja yang layak, keengganan beberapa golongan masyarakat untuk bekerja secara layak, ataupun pengetahuan, wawasan, dan keterampilan tentang dunia kerja yang belum memenuhi standar. \n",
        "\n",
        "Selain itu, jumlah provinsi di Indonesia saat ini adalah sebanyak 37 provinsi. Hal tersebut juga dapat menjadi faktor laju ekonomi serta angka pengangguran di Indonesia belum cukup baik, dikarenakan pembangunan ekonomi yang belum merata kepada seluruh bagian negeri Indonesia.\n",
        "\n",
        "* Identifikasi Masalah\n",
        "\n",
        "Berdasarkan latar belakang tersebut. Pada penelitian ini, akan dilakukan analisis dan penyelesaian masalah-masalah berikut.\n",
        "1. Bagaimana perubahan angka pengangguran di Indonesia di setiap tahunnya?\n",
        "2. Provinsi Indonesia mana yang memiliki tingkat pengangguran tertinggi?\n",
        "3. Golongan jenjang pendidikan apa yang menjadi penyumbang angka pengangguran terbanyak di Indonesia?\n",
        "4. Bagaimana solusi untuk mengatasi angka pengangguran yang tinggi tersebut?\n",
        "5. Bagaimana laju pertumbuhan ekonomi pada setiap provinsi di Indonesia?\n",
        "6. Provinsi Indonesia mana yang memiliki pertumbuhan ekonomi tertinggi dan terendah?\n",
        "7. Provinsi Indonesia mana yang ekonominya dapat dikatakan sudah cukup baik dan masih kurang baik?\n",
        "8. Bagaimana solusi untuk mengatasi laju ekonomi yang lambat?\n",
        "9. Bagaimana prediksi laju ekonomi pada tahun berikutnya pada masing-masing provinsi? (opsional)\n",
        "10. Bagaimana pengklasifikasian tingkatan ekonomi pada masing-masing provinsi? (opsional)\n",
        "\n",
        "* Metode Pendekatan Masalah\n",
        "\n",
        "Untuk pendekatan dan penyelesaian masalah, akan diimplementasikan visualisasi data dan juga model pembelajaran mesin.\n",
        "\n",
        "Visualisasi data akan menyajikan data angka pengangguran dan laju pertumbuhan ekonomi menggunakan tipe chart yang sesuai, seperti Line Chart dan Map Chart.\n",
        "\n",
        "Sedangkan, model pembelajaran mesin yang akan digunakan adalah antara Regresi atau Klasifikasi. Regresi merupakan model untuk melakukan prediksi atau ramalan terhadap nilai, berdasarkan keterkaitan dua variabel atau lebih. Sedangkan, klasifikasi adalah model untuk melakukan penggolongan, pemberian label, sesuai dengan karakteristik data yang sudah dipelajari.\n",
        "\n",
        "Untuk saat ini, masih belum pasti opsi mana yang akan dipilih. Dikarenakan, setiap model dan algoritma membutuhkan jenis data yang berbeda-beda. Sedangkan, data yang dikumpulkan masih belum terkumpul secara maksimal.\n",
        "\n",
        "* Tujuan Penelitian\n",
        "\n",
        "Dengan dilakukan penelitian ini, diharapkan dapat memenuhi tujuan-tujuan berikut.\n",
        "1. Mengetahui perubahan angka pengangguran di Indonesia setiap tahunnya.\n",
        "2. Mengetahui provinsi di Indonesia yang memiliki tingkat pengangguran tertinggi.\n",
        "3. Mengetahui golongan jenjang pendidikan yang banyak menjadi pengangguran di Indonesia.\n",
        "4. Menemukan solusi dalam mengatasi angka pengangguran yang tinggi.\n",
        "5. Mengetahui laju pertumbuhan ekonomi di Indonesia.\n",
        "6. Mengetahui provinsi di Indonesia yang memiliki pertumbuhan ekonomi tertinggi dan terendah.\n",
        "7. Mengetahui provinsi di Indonesia yang ekonominya sudah baik dan kurang baik.\n",
        "8. Menemukan solusi dalam mengatasi laju ekonomi yang lambat.\n",
        "9. Memprediksi nilai laju pertumbuhan ekonomi untuk tahun berikutnya di setiap provinsi. (opsional)\n",
        "10. Mengklasifikasi tingkatan ekonomi pada setiap provinsi. (opsional)\n",
        "\n",
        "* Timeline Penelitian\n",
        "\n",
        "Penelitian akan dilakukan selama 6 minggu, yang sudah diatur penjadwalannya untuk menentukan tema, merumuskan masalah, mencari referensi, mencari data, menganalisis data, mempersiapkan data, pemodelan data, evaluasi, dan penyusunan laporan.\n",
        "\n",
        "Dirincikan sebagai berikut:\n",
        "* Minggu ke-1: Penentuan dan Fiksasi Tema, Business Understanding\n",
        "* Minggu ke-2: Data Understanding\n",
        "* Minggu ke-3: Data Preparation\n",
        "* Minggu ke-4: Data Modeling\n",
        "* Minggu ke-5: Evaluasi\n",
        "* Minggu ke-6: Penyusunan Laporan\n"
      ],
      "metadata": {
        "id": "0R6a8CEONJz8"
      }
    },
    {
      "cell_type": "markdown",
      "source": [
        "---\n",
        "\n",
        "<h2><b>Data Understanding</b></h2>\n",
        "\n",
        "---\n",
        "\n",
        "* Kebutuhan Data\n",
        "* Pengambilan Data\n",
        "* Integrasi Data\n",
        "* Telaah Data\n",
        "* Karakteristik Data\n",
        "* Validasi Data"
      ],
      "metadata": {
        "id": "-eC9t3MJSLQG"
      }
    },
    {
      "cell_type": "markdown",
      "source": [
        "---\n",
        "\n",
        "<h2><b>Data Preparation</b></h2>\n",
        "\n",
        "---\n",
        "\n"
      ],
      "metadata": {
        "id": "AnMaQaF4STic"
      }
    },
    {
      "cell_type": "code",
      "source": [
        "#code"
      ],
      "metadata": {
        "id": "UwFqr4S1Scel"
      },
      "execution_count": null,
      "outputs": []
    },
    {
      "cell_type": "markdown",
      "source": [
        "---\n",
        "\n",
        "<h2><b>Data Modeling</b></h2>\n",
        "\n",
        "---\n",
        "\n"
      ],
      "metadata": {
        "id": "W40UIhIPSXUA"
      }
    },
    {
      "cell_type": "code",
      "execution_count": null,
      "metadata": {
        "id": "Duw2NTjGMHLF"
      },
      "outputs": [],
      "source": [
        "#code"
      ]
    }
  ]
}